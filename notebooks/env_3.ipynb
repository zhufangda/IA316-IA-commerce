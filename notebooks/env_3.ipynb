{
 "cells": [
  {
   "cell_type": "markdown",
   "metadata": {
    "ExecuteTime": {
     "end_time": "2019-02-18T08:32:59.349675Z",
     "start_time": "2019-02-18T08:32:59.345674Z"
    }
   },
   "source": [
    "# Import package"
   ]
  },
  {
   "cell_type": "code",
   "execution_count": 29,
   "metadata": {
    "ExecuteTime": {
     "end_time": "2019-02-27T15:19:34.301231Z",
     "start_time": "2019-02-27T15:19:34.290224Z"
    }
   },
   "outputs": [],
   "source": [
    "import sys\n",
    "sys.path.append('..')\n",
    "\n",
    "import pydot\n",
    "from src import envs\n",
    "\n",
    "from tqdm import tqdm_notebook as tqdm\n",
    "import pandas as pd\n",
    "import requests\n",
    "from keras.layers import (Concatenate, Dense, Dot, Dropout, Embedding, Flatten,\n",
    "                          Input, Lambda)\n",
    "from keras.layers.merge import concatenate, dot\n",
    "import keras\n",
    "# %load solutions/deep_implicit_feedback_recsys.py\n",
    "from keras.models import Model, Sequential\n",
    "from keras.regularizers import l2\n",
    "import tensorflow as tf\n",
    "\n",
    "from sklearn.metrics import roc_auc_score\n",
    "from itertools import product\n",
    "from time import sleep\n",
    "\n",
    "from keras.utils import plot_model\n",
    "import lightgbm as lgb"
   ]
  },
  {
   "cell_type": "markdown",
   "metadata": {
    "ExecuteTime": {
     "end_time": "2019-02-18T08:32:42.800452Z",
     "start_time": "2019-02-18T08:32:42.796454Z"
    }
   },
   "source": [
    "# Data"
   ]
  },
  {
   "cell_type": "code",
   "execution_count": 30,
   "metadata": {
    "ExecuteTime": {
     "end_time": "2019-02-27T15:19:35.268221Z",
     "start_time": "2019-02-27T15:19:34.756222Z"
    }
   },
   "outputs": [
    {
     "name": "stdout",
     "output_type": "stream",
     "text": [
      "------Summary-----\n",
      "key:action_history, \tsize:200, \ttype:<class 'int'>\n",
      "key:\tnb_items, \tvalue:\t30\n",
      "key:\tnb_users, \tvalue:\t100\n",
      "key:next_state, \tsize:30, \ttype:<class 'list'>\n",
      "key:rewards_history, \tsize:200, \ttype:<class 'int'>\n",
      "key:state_history, \tsize:200, \ttype:<class 'list'>\n"
     ]
    }
   ],
   "source": [
    "data_reset = envs.req_reset(verbose=True, envs='third')\n",
    "original_df = pd.DataFrame({\n",
    "    'action': data_reset['action_history'],\n",
    "    'rewards': data_reset['rewards_history'],\n",
    "    'state': data_reset['state_history']\n",
    "})\n",
    "nb_users, nb_items = data_reset['nb_users'], data_reset['nb_items']"
   ]
  },
  {
   "cell_type": "code",
   "execution_count": 31,
   "metadata": {
    "ExecuteTime": {
     "end_time": "2019-02-27T15:19:36.528241Z",
     "start_time": "2019-02-27T15:19:36.451222Z"
    }
   },
   "outputs": [
    {
     "name": "stdout",
     "output_type": "stream",
     "text": [
      "------Summary-----\n",
      "key:reward,\tvalue:0\n",
      "key:state,\tsize:30,\ttype:<class 'list'>\n"
     ]
    }
   ],
   "source": [
    "data_predict = envs.req_predict(predict=0, verbose=True, envs='third')"
   ]
  },
  {
   "cell_type": "code",
   "execution_count": 32,
   "metadata": {
    "ExecuteTime": {
     "end_time": "2019-02-27T15:19:36.875222Z",
     "start_time": "2019-02-27T15:19:36.865223Z"
    }
   },
   "outputs": [],
   "source": [
    "def export_data():\n",
    "    '''\n",
    "        Export data from envs-3\n",
    "        \n",
    "        Returns:\n",
    "            nb_users: number of users\n",
    "            nb_items: number of items\n",
    "            next_state: next state\n",
    "            df : initial training set data frame\n",
    "    \n",
    "    '''\n",
    "    \n",
    "    \n",
    "    data_reset = envs.req_reset(verbose=False, envs='third')\n",
    "    original_data = []\n",
    "    variables = []\n",
    "    for idx in range(len(data_reset['action_history'])):\n",
    "        action = data_reset['action_history'][idx]\n",
    "        reward = data_reset['rewards_history'][idx]\n",
    "        state = data_reset['state_history'][idx]\n",
    "        \n",
    "        for idx in range(len(state)):\n",
    "            row = { 'user':state[idx][0],\n",
    "                    'item':state[idx][1],\n",
    "                    'price':state[idx][2],\n",
    "                    'reward': reward if idx == action else 0,\n",
    "                    'weight': 1 if idx == action else 0  \n",
    "                }\n",
    "\n",
    "            variables.append(state[idx][3:])\n",
    "            original_data.append(row)\n",
    "\n",
    "    variable_df = pd.DataFrame(variables, columns=['v0', 'v1', 'v2', 'v3', 'v4'])\n",
    "    data_df = pd.DataFrame(original_data)\n",
    "    variable_df.index = data_df.index \n",
    "    return data_reset['nb_users'], data_reset['nb_items'], data_reset['next_state'],pd.concat([data_df, variable_df], axis=1)\n",
    "    "
   ]
  },
  {
   "cell_type": "markdown",
   "metadata": {},
   "source": [
    "# Utils"
   ]
  },
  {
   "cell_type": "code",
   "execution_count": 33,
   "metadata": {
    "ExecuteTime": {
     "end_time": "2019-02-27T15:19:37.426241Z",
     "start_time": "2019-02-27T15:19:37.406223Z"
    }
   },
   "outputs": [],
   "source": [
    "def average_roc_auc(match_model, data_train, data_test):\n",
    "    \"\"\"Compute the ROC AUC for each user and average over users\"\"\"\n",
    "    max_user = max(data_train['user'].max(), data_test['user'].max())\n",
    "    max_item = max(data_train['item'].max(), data_test['item'].max())\n",
    "    user_auc_scores = []\n",
    "    for user in range(1, max_user + 1):\n",
    "        pos_item_train = data_train[data_train['user'] == user]\n",
    "        pos_item_test = data_test[data_test['user'] == user]\n",
    "        \n",
    "        # Consider all the items already seen in the training set\n",
    "        all_items = np.arange(1, max_item + 1)\n",
    "        items_to_rank = np.setdiff1d(all_items, pos_item_train['item'].values)\n",
    "        \n",
    "        # Ground truth: return 1 for each item positively present in the test set\n",
    "        # and 0 otherwise.\n",
    "        expected = np.in1d(items_to_rank, pos_item_test['item'].values)\n",
    "        \n",
    "        if np.sum(expected) >= 1:\n",
    "            # At least one positive test value to rank\n",
    "            repeated_user = np.empty_like(items_to_rank)\n",
    "            repeated_user.fill(user)\n",
    "\n",
    "            predicted = match_model.predict([repeated_user, items_to_rank],\n",
    "                                            batch_size=4096)\n",
    "            user_auc_scores.append(roc_auc_score(expected, predicted))\n",
    "\n",
    "    return sum(user_auc_scores) / len(user_auc_scores)\n",
    "\n",
    "def sample_triplets(pos_data, random_seed=0):\n",
    "    \"\"\"Sample negatives at random\"\"\"\n",
    "    rng = np.random.RandomState(random_seed)\n",
    "    users = pos_data['user'].values\n",
    "    pos_items = pos_data[pos_data.reward>0]['item'].values\n",
    "\n",
    "    neg_items = pos_data[pos_data.reward==0]['item'].values\n",
    "\n",
    "    return [users, pos_items, neg_items]\n",
    "\n",
    "def identity_loss(y_true, y_pred):\n",
    "    \"\"\"Ignore y_true and return the mean of y_pred\n",
    "    \n",
    "    This is a hack to work-around the design of the Keras API that is\n",
    "    not really suited to train networks with a triplet loss by default.\n",
    "    \"\"\"\n",
    "    return tf.reduce_mean(y_pred + 0 * y_true)\n",
    "\n",
    "\n",
    "def margin_comparator_loss(inputs, margin=1.):\n",
    "    \"\"\"Comparator loss for a pair of precomputed similarities\n",
    "    \n",
    "    If the inputs are cosine similarities, they each have range in\n",
    "    (-1, 1), therefore their difference have range in (-2, 2). Using\n",
    "    a margin of 1. can therefore make sense.\n",
    "\n",
    "    If the input similarities are not normalized, it can be beneficial\n",
    "    to use larger values for the margin of the comparator loss.\n",
    "    \"\"\"\n",
    "    positive_pair_sim, negative_pair_sim = inputs\n",
    "    return tf.maximum(negative_pair_sim - positive_pair_sim + margin, 0)\n",
    "\n",
    "def make_interaction_mlp(input_dim, n_hidden=1, hidden_size=64,\n",
    "                         dropout=0, l2_reg=None):\n",
    "    \"\"\"Build the shared multi layer perceptron\"\"\"\n",
    "    mlp = Sequential()\n",
    "    if n_hidden == 0:\n",
    "        # Plug the output unit directly: this is a simple\n",
    "        # linear regression model. Not dropout required.\n",
    "        mlp.add(Dense(1, input_dim=input_dim,\n",
    "                      activation='relu', kernel_regularizer=l2_reg))\n",
    "    else:\n",
    "        mlp.add(Dense(hidden_size, input_dim=input_dim,\n",
    "                      activation='relu', kernel_regularizer=l2_reg))\n",
    "        mlp.add(Dropout(dropout))\n",
    "        for i in range(n_hidden - 1):\n",
    "            mlp.add(Dense(hidden_size, activation='relu',\n",
    "                          W_regularizer=l2_reg))\n",
    "            mlp.add(Dropout(dropout))\n",
    "        mlp.add(Dense(1, activation='relu', kernel_regularizer=l2_reg))\n",
    "    return mlp\n"
   ]
  },
  {
   "cell_type": "markdown",
   "metadata": {
    "ExecuteTime": {
     "end_time": "2019-02-21T15:39:30.916577Z",
     "start_time": "2019-02-21T15:39:30.911521Z"
    }
   },
   "source": [
    "# Model"
   ]
  },
  {
   "cell_type": "code",
   "execution_count": 81,
   "metadata": {
    "ExecuteTime": {
     "end_time": "2019-02-27T16:27:35.408031Z",
     "start_time": "2019-02-27T16:27:35.398017Z"
    }
   },
   "outputs": [],
   "source": [
    "def test_agent(agent, episodes=1000,  epochs=3, online=False):\n",
    "    '''\n",
    "    Param:\n",
    "        agent : agent use to be test\n",
    "        episodes : number to test\n",
    "        \n",
    "    Returns:\n",
    "        rewards : rewards hist\n",
    "        takes : actions hist\n",
    "    '''\n",
    "    \n",
    "    total_rewards, total_takes = [], []\n",
    "    for _ in range(epochs):\n",
    "        nb_users, nb_items, next_state, hist_df = export_data()\n",
    "        agent.reset_state(nb_users, nb_items, hist_df)\n",
    "\n",
    "        rewards = []\n",
    "        takes = []\n",
    "\n",
    "        for i in tqdm(range(episodes)):\n",
    "            sleep(0.01)\n",
    "            action = agent.predict(next_state)\n",
    "            d = envs.req_predict(0, envs='third')\n",
    "            # error for last prediction\n",
    "            rewards.append(d['reward'])\n",
    "            takes.append(d['reward'] >0)\n",
    "            # predict next\n",
    "\n",
    "            if online:\n",
    "                agent.update(next_state,  action, d['reward'])\n",
    "\n",
    "            next_state = d['state'] \n",
    "\n",
    "\n",
    "        print(f'Take Rates:{sum(takes)/len(takes)}, Mean Reawards:{sum(rewards) / len(rewards)}')\n",
    "        total_rewards.extend(rewards), total_takes.extend(takes)\n",
    "    print(f'Total Take Rates:{sum(total_takes)/len(total_takes)}, Total Mean Reawards:{sum(total_rewards) / len(total_rewards)}')\n",
    "    return total_rewards, total_takes"
   ]
  },
  {
   "cell_type": "markdown",
   "metadata": {
    "ExecuteTime": {
     "end_time": "2019-02-23T13:26:11.079944Z",
     "start_time": "2019-02-23T13:26:10.237911Z"
    }
   },
   "source": [
    "## Model 1- baseline"
   ]
  },
  {
   "cell_type": "code",
   "execution_count": 35,
   "metadata": {
    "ExecuteTime": {
     "end_time": "2019-02-27T15:19:40.322241Z",
     "start_time": "2019-02-27T15:19:40.315227Z"
    }
   },
   "outputs": [],
   "source": [
    "class BaseAgent(object):\n",
    "    \n",
    "    def __init__(self, name='baselien'):\n",
    "        self.name = name\n",
    "    \n",
    "    \n",
    "    def reset_state(self, nb_users, nb_items, hist_df):\n",
    "        '''\n",
    "        Reset agent's model and fit model with data specified by args\n",
    "        \n",
    "        Params:\n",
    "            data : training data used to train data\n",
    "        '''\n",
    "        pass\n",
    "    \n",
    "    def predict(self, state):\n",
    "        '''\n",
    "        Returns action by state\n",
    "        '''\n",
    "        state = np.array(state)\n",
    "        return np.argmax(state[:,2])\n",
    "    \n",
    "    def update(self, state, action ,reward):\n",
    "        '''\n",
    "        Update model with new data.\n",
    "        This function is used for online model\n",
    "        '''\n",
    "        pass"
   ]
  },
  {
   "cell_type": "code",
   "execution_count": 52,
   "metadata": {
    "ExecuteTime": {
     "end_time": "2019-02-27T15:30:09.022163Z",
     "start_time": "2019-02-27T15:30:09.018164Z"
    }
   },
   "outputs": [],
   "source": [
    "class CheapestAgent(BaseAgent):\n",
    "\n",
    "    def predict(self, state):\n",
    "        '''\n",
    "        Returns action by state\n",
    "        '''\n",
    "        state = np.array(state)\n",
    "        return np.argmin(state[:,2])"
   ]
  },
  {
   "cell_type": "code",
   "execution_count": 47,
   "metadata": {
    "ExecuteTime": {
     "end_time": "2019-02-27T15:28:06.006755Z",
     "start_time": "2019-02-27T15:28:06.003737Z"
    }
   },
   "outputs": [],
   "source": [
    "class ConstantAgent(BaseAgent):\n",
    "\n",
    "    def predict(self, state):\n",
    "        '''\n",
    "        Returns action by state\n",
    "        '''\n",
    "        return 0"
   ]
  },
  {
   "cell_type": "code",
   "execution_count": 45,
   "metadata": {
    "ExecuteTime": {
     "end_time": "2019-02-27T15:25:57.364155Z",
     "start_time": "2019-02-27T15:25:57.360118Z"
    }
   },
   "outputs": [],
   "source": [
    "class RandomAgent(BaseAgent):\n",
    "\n",
    "    def predict(self, state):\n",
    "        '''\n",
    "        Returns action by state\n",
    "        '''\n",
    "        return np.random.randint(0, len(state))"
   ]
  },
  {
   "cell_type": "markdown",
   "metadata": {
    "ExecuteTime": {
     "end_time": "2019-02-23T15:24:13.853875Z",
     "start_time": "2019-02-23T15:24:13.850878Z"
    }
   },
   "source": [
    "### Test"
   ]
  },
  {
   "cell_type": "code",
   "execution_count": 77,
   "metadata": {
    "ExecuteTime": {
     "end_time": "2019-02-27T16:21:54.272375Z",
     "start_time": "2019-02-27T16:20:16.669597Z"
    }
   },
   "outputs": [
    {
     "data": {
      "application/vnd.jupyter.widget-view+json": {
       "model_id": "5a12da7aad1147e0b1874edb1028815a",
       "version_major": 2,
       "version_minor": 0
      },
      "text/plain": [
       "HBox(children=(IntProgress(value=0, max=1000), HTML(value='')))"
      ]
     },
     "metadata": {},
     "output_type": "display_data"
    },
    {
     "name": "stdout",
     "output_type": "stream",
     "text": [
      "\n",
      "Take Rates:0.176, Mean Reawards:123.73870656619684\n"
     ]
    },
    {
     "data": {
      "application/vnd.jupyter.widget-view+json": {
       "model_id": "f356f13af6104f179443e208bbb3e1ad",
       "version_major": 2,
       "version_minor": 0
      },
      "text/plain": [
       "HBox(children=(IntProgress(value=0, max=1000), HTML(value='')))"
      ]
     },
     "metadata": {},
     "output_type": "display_data"
    },
    {
     "name": "stdout",
     "output_type": "stream",
     "text": [
      "\n",
      "Take Rates:0.252, Mean Reawards:81.46846021022411\n"
     ]
    },
    {
     "data": {
      "application/vnd.jupyter.widget-view+json": {
       "model_id": "a06d8f786e674c02a79fdab34a28cdfe",
       "version_major": 2,
       "version_minor": 0
      },
      "text/plain": [
       "HBox(children=(IntProgress(value=0, max=1000), HTML(value='')))"
      ]
     },
     "metadata": {},
     "output_type": "display_data"
    },
    {
     "name": "stdout",
     "output_type": "stream",
     "text": [
      "\n",
      "Take Rates:0.261, Mean Reawards:148.94215353336074\n",
      "Total Take Rates:0.22966666666666666, Total Mean Reawards:118.04977343659473\n"
     ]
    }
   ],
   "source": [
    "agent1 = BaseAgent()\n",
    "reawrds, takes = test_agent(agent1, 1000, epochs=3)"
   ]
  },
  {
   "cell_type": "code",
   "execution_count": 48,
   "metadata": {
    "ExecuteTime": {
     "end_time": "2019-02-27T15:29:57.102209Z",
     "start_time": "2019-02-27T15:28:06.347739Z"
    }
   },
   "outputs": [
    {
     "data": {
      "application/vnd.jupyter.widget-view+json": {
       "model_id": "171796a584394e398ad5decf8b012b7c",
       "version_major": 2,
       "version_minor": 0
      },
      "text/plain": [
       "HBox(children=(IntProgress(value=0, max=1000), HTML(value='')))"
      ]
     },
     "metadata": {},
     "output_type": "display_data"
    },
    {
     "name": "stdout",
     "output_type": "stream",
     "text": [
      "\n",
      "Take Rates:0.337, Mean Reawards:202.64106557681447\n"
     ]
    },
    {
     "data": {
      "application/vnd.jupyter.widget-view+json": {
       "model_id": "a3339c4417bd4df883323326e0a3219c",
       "version_major": 2,
       "version_minor": 0
      },
      "text/plain": [
       "HBox(children=(IntProgress(value=0, max=1000), HTML(value='')))"
      ]
     },
     "metadata": {},
     "output_type": "display_data"
    },
    {
     "name": "stdout",
     "output_type": "stream",
     "text": [
      "\n",
      "Take Rates:0.255, Mean Reawards:107.58912864876962\n"
     ]
    },
    {
     "data": {
      "application/vnd.jupyter.widget-view+json": {
       "model_id": "2b6c71f8dba0466cb44f41aaf8e78e93",
       "version_major": 2,
       "version_minor": 0
      },
      "text/plain": [
       "HBox(children=(IntProgress(value=0, max=1000), HTML(value='')))"
      ]
     },
     "metadata": {},
     "output_type": "display_data"
    },
    {
     "name": "stdout",
     "output_type": "stream",
     "text": [
      "\n",
      "Take Rates:0.265, Mean Reawards:147.5803381236969\n",
      "Total Take Rates:0.2856666666666667, Total Mean Reawards:152.60351078309426\n"
     ]
    }
   ],
   "source": [
    "agent2 = ConstantAgent()\n",
    "reawrds, takes = test_agent(agent2, 1000, epochs=3)"
   ]
  },
  {
   "cell_type": "code",
   "execution_count": 46,
   "metadata": {
    "ExecuteTime": {
     "end_time": "2019-02-27T15:28:05.657739Z",
     "start_time": "2019-02-27T15:26:00.009121Z"
    }
   },
   "outputs": [
    {
     "data": {
      "application/vnd.jupyter.widget-view+json": {
       "model_id": "2ff309bb719645f594be93ec7119ec55",
       "version_major": 2,
       "version_minor": 0
      },
      "text/plain": [
       "HBox(children=(IntProgress(value=0, max=1000), HTML(value='')))"
      ]
     },
     "metadata": {},
     "output_type": "display_data"
    },
    {
     "name": "stdout",
     "output_type": "stream",
     "text": [
      "\n",
      "Take Rates:0.235, Mean Reawards:135.89172689661766\n"
     ]
    },
    {
     "data": {
      "application/vnd.jupyter.widget-view+json": {
       "model_id": "a1ab964a96034bd18ace32c391ac854a",
       "version_major": 2,
       "version_minor": 0
      },
      "text/plain": [
       "HBox(children=(IntProgress(value=0, max=1000), HTML(value='')))"
      ]
     },
     "metadata": {},
     "output_type": "display_data"
    },
    {
     "name": "stdout",
     "output_type": "stream",
     "text": [
      "\n",
      "Take Rates:0.304, Mean Reawards:120.9870440221462\n"
     ]
    },
    {
     "data": {
      "application/vnd.jupyter.widget-view+json": {
       "model_id": "36c08660783c463f9bff87bb24664f8a",
       "version_major": 2,
       "version_minor": 0
      },
      "text/plain": [
       "HBox(children=(IntProgress(value=0, max=1000), HTML(value='')))"
      ]
     },
     "metadata": {},
     "output_type": "display_data"
    },
    {
     "name": "stdout",
     "output_type": "stream",
     "text": [
      "\n",
      "Take Rates:0.222, Mean Reawards:144.20706655183284\n",
      "Total Take Rates:0.25366666666666665, Total Mean Reawards:133.69527915686444\n"
     ]
    }
   ],
   "source": [
    "agent3 = RandomAgent()\n",
    "reawrds, takes = test_agent(agent3, 1000, epochs=3)"
   ]
  },
  {
   "cell_type": "code",
   "execution_count": 54,
   "metadata": {
    "ExecuteTime": {
     "end_time": "2019-02-27T15:32:01.643682Z",
     "start_time": "2019-02-27T15:30:17.158122Z"
    }
   },
   "outputs": [
    {
     "data": {
      "application/vnd.jupyter.widget-view+json": {
       "model_id": "d6524bc0816f4d3d99aeb7fa2e051e1d",
       "version_major": 2,
       "version_minor": 0
      },
      "text/plain": [
       "HBox(children=(IntProgress(value=0, max=1000), HTML(value='')))"
      ]
     },
     "metadata": {},
     "output_type": "display_data"
    },
    {
     "name": "stdout",
     "output_type": "stream",
     "text": [
      "\n",
      "Take Rates:0.128, Mean Reawards:96.5379676655509\n"
     ]
    },
    {
     "data": {
      "application/vnd.jupyter.widget-view+json": {
       "model_id": "cccf14b4921e4ab88545209ade40f581",
       "version_major": 2,
       "version_minor": 0
      },
      "text/plain": [
       "HBox(children=(IntProgress(value=0, max=1000), HTML(value='')))"
      ]
     },
     "metadata": {},
     "output_type": "display_data"
    },
    {
     "name": "stdout",
     "output_type": "stream",
     "text": [
      "\n",
      "Take Rates:0.227, Mean Reawards:85.681370530848\n"
     ]
    },
    {
     "data": {
      "application/vnd.jupyter.widget-view+json": {
       "model_id": "28c7a48da1c642a4ad57d0de5302188b",
       "version_major": 2,
       "version_minor": 0
      },
      "text/plain": [
       "HBox(children=(IntProgress(value=0, max=1000), HTML(value='')))"
      ]
     },
     "metadata": {},
     "output_type": "display_data"
    },
    {
     "name": "stdout",
     "output_type": "stream",
     "text": [
      "\n",
      "Take Rates:0.268, Mean Reawards:130.9737983406737\n",
      "Total Take Rates:0.20766666666666667, Total Mean Reawards:104.39771217902408\n"
     ]
    }
   ],
   "source": [
    "agent4 = CheapestAgent()\n",
    "reawrds, takes = test_agent(agent4, 1000, epochs=3)"
   ]
  },
  {
   "cell_type": "markdown",
   "metadata": {},
   "source": [
    "## Model-2"
   ]
  },
  {
   "cell_type": "code",
   "execution_count": 62,
   "metadata": {
    "ExecuteTime": {
     "end_time": "2019-02-27T15:39:49.124056Z",
     "start_time": "2019-02-27T15:39:49.096040Z"
    },
    "code_folding": []
   },
   "outputs": [],
   "source": [
    "class Agent1(BaseAgent):\n",
    "    \n",
    "    def __init__(self, epochs=50, model_params =None, verbose=False ):\n",
    "        self.epochs = epochs\n",
    "        self.verbose= verbose\n",
    "        if model_params == None:\n",
    "            self.model_params = dict(\n",
    "                user_dim=32,\n",
    "                item_dim=64,\n",
    "                n_hidden=1,\n",
    "                hidden_size=128,\n",
    "                dropout=0.1,\n",
    "                l2_reg=0\n",
    "            )\n",
    "        else:\n",
    "            self.model_params = model_params\n",
    "\n",
    "    \n",
    "         \n",
    "    def reset_state(self, nb_users, nb_items, hist_df, epoch=10):\n",
    "        ## reset data\n",
    "        self.nb_users, self.nb_items, self.hist_df = nb_users, nb_items, hist_df        \n",
    "        \n",
    "        ## extrain triple data\n",
    "        triplet_inputs = self._data_preprocessing(self.hist_df)\n",
    "        print('Data Size:', len(triplet_inputs[0]))\n",
    "        \n",
    "        ## reset model\n",
    "        self.model, self.match_model = self._build_model(self.nb_users, self.nb_items, **self.model_params)\n",
    "        self.compile()\n",
    "        \n",
    "        ## Training model with new data\n",
    "        self.fit(triplet_inputs, epochs = self.epochs, verbose=self.verbose)\n",
    "        \n",
    "        \n",
    "    def fit(self, triplet_inputs,batch_size=64, epochs=10, verbose=True):\n",
    "        fake_y = np.ones_like( triplet_inputs[0])\n",
    "        self.model.fit(triplet_inputs, fake_y, shuffle=True,validation_split=0.1,\n",
    "                       batch_size=batch_size, epochs=epochs, verbose =verbose)\n",
    "\n",
    "        \n",
    "    def predict(self, state):\n",
    "        return np.argmax(self.predict_prob(state))\n",
    "    \n",
    "    \n",
    "    def predict_prob(self, state):\n",
    "        state = np.array(state, dtype=int)\n",
    "        user_ids = state[:,0].ravel()\n",
    "        item_ids = state[:,1].ravel()\n",
    "        return self.match_model.predict( [user_ids, item_ids])\n",
    "    \n",
    "    \n",
    "    \n",
    "    def update(self, state, action ,reward):\n",
    "        '''\n",
    "        Update model with new data.\n",
    "        This function is used for online model\n",
    "        '''\n",
    "        user_id = state[action][0]\n",
    "        item_id = state[action][1]\n",
    "\n",
    "        row = { 'user':state[action][0],\n",
    "                    'item':state[action][1],\n",
    "                    'price':state[action][2],\n",
    "                    'reward': reward,\n",
    "                    'weight': 1,\n",
    "                    'v0':state[action][3],\n",
    "                    'v1':state[action][4],\n",
    "                    'v2':state[action][5],\n",
    "                    'v3':state[action][6],\n",
    "                    'v4':state[action][7],\n",
    "                 }\n",
    "        \n",
    "        try:\n",
    "            self.hist_df = self.hist_df.append(row, ignore_index=True)\n",
    "            triplet_inputs = self._data_preprocessing(self.hist_df[self.hist_df.user == user_id])\n",
    "            \n",
    "            if len(triplet_inputs[0]) == 0:\n",
    "                return\n",
    "            self.fit(triplet_inputs, epochs = 1, verbose=self.verbose)\n",
    "        except Exception as e:\n",
    "            print('user_id:', user_id)\n",
    "            print(state)\n",
    "            print(triplet_inputs)\n",
    "            raise Exception(e)\n",
    "\n",
    "            \n",
    "            \n",
    "        \n",
    "    def _build_model(self, n_users=32, n_items=64, user_dim=32, item_dim=64,\n",
    "                     n_hidden=3, hidden_size=64, dropout=0, l2_reg=0):\n",
    "        \n",
    "        user_input = Input((1,), name='user_input')\n",
    "        positive_item_input = Input((1,), name='positive_item_input')\n",
    "        negative_item_input = Input((1,), name='negative_item_input')\n",
    "\n",
    "        # - embeddings\n",
    "        l2_reg = None if l2_reg == 0 else l2(l2_reg)\n",
    "        user_layer = Embedding(n_users, user_dim, input_length=1,\n",
    "                               name='user_embedding', embeddings_regularizer=l2_reg)\n",
    "        user_embedding = Flatten()(user_layer(user_input))\n",
    "\n",
    "        item_layer = Embedding(n_items, item_dim, input_length=1,\n",
    "                               name=\"item_embedding\", embeddings_regularizer=l2_reg)\n",
    "\n",
    "        positive_item_embedding = Flatten()(item_layer(positive_item_input))\n",
    "        negative_item_embedding = Flatten()(item_layer(negative_item_input))\n",
    "\n",
    "        positive_embeddings_pair = concatenate([user_embedding, positive_item_embedding],\n",
    "                                         name=\"positive_embeddings_pair\")\n",
    "        positive_embeddings_pair = Dropout(dropout)(positive_embeddings_pair)\n",
    "\n",
    "        negative_embeddings_pair = concatenate([user_embedding, negative_item_embedding],\n",
    "\n",
    "                                         name=\"negative_embeddings_pair\")\n",
    "        negative_embeddings_pair = Dropout(dropout)(negative_embeddings_pair)\n",
    "\n",
    "\n",
    "        interaction_layers = make_interaction_mlp(\n",
    "            user_dim + item_dim, n_hidden=n_hidden, hidden_size=hidden_size,\n",
    "            dropout=dropout, l2_reg=l2_reg)\n",
    "\n",
    "        positive_mlp = interaction_layers(positive_embeddings_pair)\n",
    "        negative_mlp = interaction_layers(negative_embeddings_pair)\n",
    "\n",
    "        # The triplet network model, only used for training\n",
    "        triplet_loss = Lambda(margin_comparator_loss,\n",
    "                              name='comparator_loss',\n",
    "                              output_shape=(1,))(\n",
    "            [positive_mlp, negative_mlp])\n",
    "        \n",
    "        match_model = Model(inputs=[user_input, positive_item_input],\n",
    "                    outputs=positive_mlp)\n",
    "\n",
    "        model = Model(inputs=[user_input,\n",
    "                                      positive_item_input,\n",
    "                                      negative_item_input],\n",
    "                              outputs=triplet_loss)\n",
    "\n",
    "        return model, match_model\n",
    "     \n",
    "    \n",
    "    def _data_preprocessing(self, df):\n",
    "        '''\n",
    "        Extrait training data\n",
    "        '''\n",
    "        grouped = df.groupby(by='user')\n",
    "        all_items = set(range(nb_items))\n",
    "\n",
    "        users, pos_items, neg_items = [], [], []\n",
    "        for idx, ele in grouped:\n",
    "            user_id = idx\n",
    "            pos_ids = ele[ele.reward>0]['item'].values\n",
    "            neg_ids = ele[ele.reward == 0]['item'].values\n",
    "            product_list = list(zip(*list(product([user_id], pos_ids, neg_ids))))\n",
    "            \n",
    "            if len(product_list) == 0:\n",
    "                continue\n",
    "#             print(idx, pos_ids.shape, neg_ids.shape, len(product_list[0]))\n",
    "            users.extend(product_list[0])\n",
    "            pos_items.extend(product_list[1])\n",
    "            neg_items.extend(product_list[2])\n",
    "        \n",
    "#         print(len(users))\n",
    "        assert len(users) == len(pos_items)\n",
    "        assert len(users) == len(neg_items)\n",
    "        return [users, pos_items, neg_items]\n",
    "    \n",
    "    \n",
    "\n",
    "    def compile(self, loss=identity_loss, optimizer='adam'):\n",
    "        self.model.compile(loss=loss, optimizer=optimizer)"
   ]
  },
  {
   "cell_type": "markdown",
   "metadata": {
    "ExecuteTime": {
     "end_time": "2019-02-23T15:24:11.572877Z",
     "start_time": "2019-02-23T15:24:11.568884Z"
    }
   },
   "source": [
    "### Test"
   ]
  },
  {
   "cell_type": "code",
   "execution_count": 63,
   "metadata": {
    "ExecuteTime": {
     "end_time": "2019-02-27T15:42:43.782795Z",
     "start_time": "2019-02-27T15:39:49.446042Z"
    }
   },
   "outputs": [
    {
     "name": "stdout",
     "output_type": "stream",
     "text": [
      "Data Size: 5208\n"
     ]
    },
    {
     "data": {
      "application/vnd.jupyter.widget-view+json": {
       "model_id": "8d8bdba66bfe47afb3d6bb5a5cdc13e5",
       "version_major": 2,
       "version_minor": 0
      },
      "text/plain": [
       "HBox(children=(IntProgress(value=0, max=1000), HTML(value='')))"
      ]
     },
     "metadata": {},
     "output_type": "display_data"
    },
    {
     "name": "stdout",
     "output_type": "stream",
     "text": [
      "\n",
      "Take Rates:0.254, Mean Reawards:161.05139420710714\n",
      "Data Size: 4883\n"
     ]
    },
    {
     "data": {
      "application/vnd.jupyter.widget-view+json": {
       "model_id": "0f4fe4a7b9c24279948e35c558b9eb09",
       "version_major": 2,
       "version_minor": 0
      },
      "text/plain": [
       "HBox(children=(IntProgress(value=0, max=1000), HTML(value='')))"
      ]
     },
     "metadata": {},
     "output_type": "display_data"
    },
    {
     "name": "stdout",
     "output_type": "stream",
     "text": [
      "\n",
      "Take Rates:0.255, Mean Reawards:139.30751076420455\n",
      "Data Size: 5109\n"
     ]
    },
    {
     "data": {
      "application/vnd.jupyter.widget-view+json": {
       "model_id": "5aea3620e21f435da484455235c06e74",
       "version_major": 2,
       "version_minor": 0
      },
      "text/plain": [
       "HBox(children=(IntProgress(value=0, max=1000), HTML(value='')))"
      ]
     },
     "metadata": {},
     "output_type": "display_data"
    },
    {
     "name": "stdout",
     "output_type": "stream",
     "text": [
      "\n",
      "Take Rates:0.326, Mean Reawards:141.90920049185283\n",
      "Total Take Rates:0.2783333333333333, Total Mean Reawards:147.4227018210556\n"
     ]
    }
   ],
   "source": [
    "agent11 = Agent1(epochs=50, verbose=False)\n",
    "rewards, takes = test_agent(agent11, 1000, 3)"
   ]
  },
  {
   "cell_type": "code",
   "execution_count": 64,
   "metadata": {
    "ExecuteTime": {
     "end_time": "2019-02-27T15:46:36.228657Z",
     "start_time": "2019-02-27T15:42:44.109793Z"
    },
    "scrolled": true
   },
   "outputs": [
    {
     "name": "stdout",
     "output_type": "stream",
     "text": [
      "Data Size: 5275\n"
     ]
    },
    {
     "data": {
      "application/vnd.jupyter.widget-view+json": {
       "model_id": "559223fb35c64f8e9d6aa02fa4092fa9",
       "version_major": 2,
       "version_minor": 0
      },
      "text/plain": [
       "HBox(children=(IntProgress(value=0, max=1000), HTML(value='')))"
      ]
     },
     "metadata": {},
     "output_type": "display_data"
    },
    {
     "name": "stdout",
     "output_type": "stream",
     "text": [
      "\n",
      "Take Rates:0.317, Mean Reawards:142.67439069934554\n",
      "Data Size: 5076\n"
     ]
    },
    {
     "data": {
      "application/vnd.jupyter.widget-view+json": {
       "model_id": "a33e3c050a5c44d58ddf9a7ba260e6ba",
       "version_major": 2,
       "version_minor": 0
      },
      "text/plain": [
       "HBox(children=(IntProgress(value=0, max=1000), HTML(value='')))"
      ]
     },
     "metadata": {},
     "output_type": "display_data"
    },
    {
     "name": "stdout",
     "output_type": "stream",
     "text": [
      "\n",
      "Take Rates:0.224, Mean Reawards:100.8706587682458\n",
      "Data Size: 5049\n"
     ]
    },
    {
     "data": {
      "application/vnd.jupyter.widget-view+json": {
       "model_id": "316fcf5501864d9c89f1c9be90b81bec",
       "version_major": 2,
       "version_minor": 0
      },
      "text/plain": [
       "HBox(children=(IntProgress(value=0, max=1000), HTML(value='')))"
      ]
     },
     "metadata": {},
     "output_type": "display_data"
    },
    {
     "name": "stdout",
     "output_type": "stream",
     "text": [
      "\n",
      "Take Rates:0.235, Mean Reawards:88.9842308582559\n",
      "Total Take Rates:0.25866666666666666, Total Mean Reawards:110.84309344194986\n"
     ]
    }
   ],
   "source": [
    "agent12 = Agent1(epochs=10, verbose=False)\n",
    "rewards, takes = test_agent(agent12, 1000, 3, online=True)"
   ]
  },
  {
   "cell_type": "markdown",
   "metadata": {},
   "source": [
    "## Model-3"
   ]
  },
  {
   "cell_type": "code",
   "execution_count": 65,
   "metadata": {
    "ExecuteTime": {
     "end_time": "2019-02-27T15:46:36.594875Z",
     "start_time": "2019-02-27T15:46:36.553656Z"
    }
   },
   "outputs": [],
   "source": [
    "class Agent2(BaseAgent):\n",
    "    \n",
    "    def __init__(self, epochs=50, model_params =None, verbose=False ):\n",
    "        self.epochs = epochs\n",
    "        self.verbose= verbose\n",
    "        if model_params == None:\n",
    "            self.model_params = dict(\n",
    "                user_dim=32,\n",
    "                item_dim=64,\n",
    "                n_hidden=1,\n",
    "                hidden_size=128,\n",
    "                dropout=0.1,\n",
    "                l2_reg=0\n",
    "            )\n",
    "        else:\n",
    "            self.model_params = model_params\n",
    "\n",
    "    \n",
    "         \n",
    "    def reset_state(self, nb_users, nb_items, hist_df, epoch=10):\n",
    "        ## reset data\n",
    "        self.nb_users, self.nb_items, self.hist_df = nb_users, nb_items, hist_df        \n",
    "        \n",
    "        ## extrain triple data\n",
    "        print('Extract Data ......')\n",
    "        triplet_inputs = self._data_preprocessing(self.hist_df)\n",
    "        print('Data Size:', len(triplet_inputs[0]))\n",
    "        \n",
    "        ## reset model\n",
    "        print('Create Model ......')\n",
    "        self.model, self.match_model = self._build_model(self.nb_users, self.nb_items, **self.model_params)\n",
    "        self.compile()\n",
    "        \n",
    "        ## Training model with new data\n",
    "        print('Fit Model ......')\n",
    "        self.fit(triplet_inputs, epochs = self.epochs, verbose=self.verbose)\n",
    "        \n",
    "        \n",
    "    def fit(self, triplet_inputs,batch_size=64, epochs=10, verbose=True):\n",
    "        fake_y = np.ones_like( triplet_inputs[0])\n",
    "        self.model.fit(triplet_inputs, fake_y, shuffle=True,\n",
    "                       batch_size=batch_size, epochs=epochs, verbose=verbose)\n",
    "\n",
    "        \n",
    "    def predict(self, state):\n",
    "        return np.argmax(self.predict_prob(state))\n",
    "    \n",
    "    \n",
    "    def predict_prob(self, state):\n",
    "        state = np.array(state, dtype=int)\n",
    "        user_ids = state[:,0].ravel()\n",
    "        item_ids = state[:,1].ravel()\n",
    "        meta_vec = state[:,3:]\n",
    "        \n",
    "        return self.match_model.predict( [user_ids, item_ids, meta_vec])\n",
    "    \n",
    "    \n",
    "    \n",
    "    def update(self, state, action ,reward):\n",
    "        '''\n",
    "        Update model with new data.\n",
    "        This function is used for online model\n",
    "        '''\n",
    "        user_id = state[action][0]\n",
    "        item_id = state[action][1]\n",
    "\n",
    "        row = { 'user':state[action][0],\n",
    "                    'item':state[action][1],\n",
    "                    'price':state[action][2],\n",
    "                    'reward': reward,\n",
    "                    'weight': 1,\n",
    "                    'v0':state[action][3],\n",
    "                    'v1':state[action][4],\n",
    "                    'v2':state[action][5],\n",
    "                    'v3':state[action][6],\n",
    "                    'v4':state[action][7],\n",
    "                 }\n",
    "        try:\n",
    "            self.hist_df = self.hist_df.append(row, ignore_index=True)\n",
    "            triplet_inputs = self._data_preprocessing(self.hist_df[self.hist_df.user == user_id])\n",
    "            \n",
    "            if triplet_inputs == None or len(triplet_inputs[0]) == 0:\n",
    "                return\n",
    "            self.fit(triplet_inputs, epochs = 1, verbose=self.verbose)\n",
    "        except Exception as e:\n",
    "            print(('user_id:', user_id))\n",
    "            print(state)\n",
    "            print(triplet_inputs)\n",
    "            raise Exception(e)\n",
    "\n",
    "            \n",
    "            \n",
    "        \n",
    "    def _build_model(self, n_users=32, n_items=64, user_dim=32, item_dim=64,\n",
    "                     n_hidden=3, hidden_size=64, dropout=0, l2_reg=0):\n",
    "        \n",
    "        user_input = Input((1,), name='user_input')\n",
    "        positive_item_input = Input((1,), name='positive_item_input')\n",
    "        positive_meta_input = Input((5,), name='positive_meta_item')\n",
    "        negative_item_input = Input((1,), name='negative_item_input')\n",
    "        negative_meta_input = Input((5,), name='negative_meta_input')\n",
    "        \n",
    "\n",
    "        # - embeddings\n",
    "        l2_reg = None if l2_reg == 0 else l2(l2_reg)\n",
    "        user_layer = Embedding(n_users, user_dim, input_length=1,\n",
    "                               name='user_embedding', embeddings_regularizer=l2_reg)\n",
    "        user_embedding = Flatten()(user_layer(user_input))\n",
    "\n",
    "        item_layer = Embedding(n_items, item_dim, input_length=1,\n",
    "                               name=\"item_embedding\", embeddings_regularizer=l2_reg)\n",
    "\n",
    "        positive_item_embedding = Flatten()(item_layer(positive_item_input))\n",
    "        negative_item_embedding = Flatten()(item_layer(negative_item_input))\n",
    "\n",
    "        positive_embeddings_pair = concatenate([user_embedding, positive_item_embedding, positive_meta_input],\n",
    "                                         name=\"positive_embeddings_pair\")\n",
    "        positive_embeddings_pair = Dropout(dropout)(positive_embeddings_pair)\n",
    "\n",
    "        negative_embeddings_pair = concatenate([user_embedding, negative_item_embedding, negative_meta_input],\n",
    "\n",
    "                                         name=\"negative_embeddings_pair\")\n",
    "        negative_embeddings_pair = Dropout(dropout)(negative_embeddings_pair)\n",
    "\n",
    "\n",
    "        interaction_layers = make_interaction_mlp(\n",
    "            user_dim + item_dim + 5, n_hidden=n_hidden, hidden_size=hidden_size,\n",
    "            dropout=dropout, l2_reg=l2_reg)\n",
    "\n",
    "        positive_mlp = interaction_layers(positive_embeddings_pair)\n",
    "        negative_mlp = interaction_layers(negative_embeddings_pair)\n",
    "\n",
    "        # The triplet network model, only used for training\n",
    "        triplet_loss = Lambda(margin_comparator_loss,\n",
    "                              name='comparator_loss',\n",
    "                              output_shape=(1,))(\n",
    "            [positive_mlp, negative_mlp])\n",
    "        \n",
    "        match_model = Model(inputs=[user_input, positive_item_input, positive_meta_input],\n",
    "                    outputs=positive_mlp)\n",
    "\n",
    "        model = Model(inputs=[user_input,\n",
    "                              positive_item_input,\n",
    "                              positive_meta_input,\n",
    "                              negative_item_input,\n",
    "                              negative_meta_input\n",
    "                             ],\n",
    "                              outputs=triplet_loss)\n",
    "\n",
    "        return model, match_model\n",
    "     \n",
    "    \n",
    "    def _data_preprocessing(self, df):\n",
    "        '''\n",
    "        Extrait training data\n",
    "        \n",
    "        '''\n",
    "        pos_grouped = df.groupby(by='user')\n",
    "        all_items = set(range(self.nb_items))\n",
    "    \n",
    "        users, pos_items,pos_meta, neg_items, neg_meta = [], [], [],[], []\n",
    "        for idx, ele in pos_grouped:\n",
    "            pos_rows = ele[ele['reward']>0].values\n",
    "            neg_rows = ele[ele['reward'] == 0.0].values\n",
    "            product_list = list(zip(*list(product(pos_rows, neg_rows))))\n",
    "        #     pos_id = .extend(product_list[1])\n",
    "            if len(product_list) == 0:\n",
    "                continue\n",
    "#             print(len(product_list))\n",
    "            pos_rows = np.array(product_list[0])\n",
    "            neg_rows = np.array(product_list[1])\n",
    "#             print(pos_rows.shape)\n",
    "           \n",
    "#             pos_rows = product_list[1]\n",
    "            users.append(pos_rows[:,0])\n",
    "            pos_items.append(pos_rows[:,1])\n",
    "            pos_meta.append(pos_rows[:,-5:])\n",
    "            neg_items.append(neg_rows[:,1])\n",
    "            neg_meta.append(neg_rows[:,-5:])\n",
    "#             print((idx, pos_rows[:,0].shape, pos_rows[:,1].shape, pos_rows[:,-5:].shape, neg_rows[:,1].shape, neg_rows[:,-5:].shape))\n",
    "\n",
    "#             break\n",
    "#             for ele in product_list[0]:\n",
    "#                 pos_items.append(ele[0])\n",
    "#                 pos_meta.append(ele[1:])\n",
    "#                 users.append(idx)\n",
    "\n",
    "#             for ele in product_list[1]:\n",
    "#                 neg_items.append(ele[0])\n",
    "#                 neg_meta.append(ele[1:])\n",
    "                \n",
    "            assert len(users) == len(pos_items)\n",
    "            assert len(users) == len(pos_meta)\n",
    "            assert len(users) == len(neg_items)\n",
    "            assert len(users) == len(pos_meta)\n",
    "            \n",
    "        if len(users) == 0:\n",
    "            return None\n",
    "        return [np.concatenate(users), np.concatenate(pos_items),np.vstack(pos_meta), np.concatenate(neg_items), np.vstack(neg_meta)]\n",
    "            \n",
    "#         return [users, pos_items, pos_meta,  neg_items, neg_meta]\n",
    "    \n",
    "\n",
    "    def compile(self, loss=identity_loss, optimizer='adam'):\n",
    "        self.model.compile(loss=loss, optimizer=optimizer)"
   ]
  },
  {
   "cell_type": "markdown",
   "metadata": {},
   "source": [
    "### Test"
   ]
  },
  {
   "cell_type": "code",
   "execution_count": 80,
   "metadata": {
    "ExecuteTime": {
     "end_time": "2019-02-27T16:27:35.039019Z",
     "start_time": "2019-02-27T16:25:11.905739Z"
    }
   },
   "outputs": [
    {
     "name": "stdout",
     "output_type": "stream",
     "text": [
      "Extract Data ......\n",
      "Data Size: 5182\n",
      "Create Model ......\n",
      "Fit Model ......\n"
     ]
    },
    {
     "data": {
      "application/vnd.jupyter.widget-view+json": {
       "model_id": "32609f39f3de4aa3b430bbf7cf01abac",
       "version_major": 2,
       "version_minor": 0
      },
      "text/plain": [
       "HBox(children=(IntProgress(value=0, max=1000), HTML(value='')))"
      ]
     },
     "metadata": {},
     "output_type": "display_data"
    },
    {
     "name": "stdout",
     "output_type": "stream",
     "text": [
      "\n",
      "Take Rates:0.305, Mean Reawards:181.71171984300446\n",
      "Extract Data ......\n",
      "Data Size: 4397\n",
      "Create Model ......\n",
      "Fit Model ......\n"
     ]
    },
    {
     "data": {
      "application/vnd.jupyter.widget-view+json": {
       "model_id": "ebac30676ca6474d948477c90aff3d8b",
       "version_major": 2,
       "version_minor": 0
      },
      "text/plain": [
       "HBox(children=(IntProgress(value=0, max=1000), HTML(value='')))"
      ]
     },
     "metadata": {},
     "output_type": "display_data"
    },
    {
     "name": "stdout",
     "output_type": "stream",
     "text": [
      "\n",
      "Take Rates:0.221, Mean Reawards:88.06000632080084\n",
      "Extract Data ......\n",
      "Data Size: 4421\n",
      "Create Model ......\n",
      "Fit Model ......\n"
     ]
    },
    {
     "data": {
      "application/vnd.jupyter.widget-view+json": {
       "model_id": "166392ea85c74d668b2089e1b2ac6d8e",
       "version_major": 2,
       "version_minor": 0
      },
      "text/plain": [
       "HBox(children=(IntProgress(value=0, max=1000), HTML(value='')))"
      ]
     },
     "metadata": {},
     "output_type": "display_data"
    },
    {
     "name": "stdout",
     "output_type": "stream",
     "text": [
      "\n",
      "Take Rates:0.231, Mean Reawards:85.18091468261682\n",
      "Total Take Rates:0.25233333333333335, Total Mean Reawards:118.31754694880881\n"
     ]
    }
   ],
   "source": [
    "agent21 = Agent2(epochs=10, verbose=False)\n",
    "rewards, takes = test_agent(agent21, 1000, 3)"
   ]
  },
  {
   "cell_type": "code",
   "execution_count": 67,
   "metadata": {
    "ExecuteTime": {
     "end_time": "2019-02-27T15:50:49.999094Z",
     "start_time": "2019-02-27T15:47:03.754656Z"
    }
   },
   "outputs": [
    {
     "name": "stdout",
     "output_type": "stream",
     "text": [
      "Extract Data ......\n",
      "Data Size: 5034\n",
      "Create Model ......\n",
      "Fit Model ......\n"
     ]
    },
    {
     "data": {
      "application/vnd.jupyter.widget-view+json": {
       "model_id": "eb26da5f65ee472bb8c11a719442090a",
       "version_major": 2,
       "version_minor": 0
      },
      "text/plain": [
       "HBox(children=(IntProgress(value=0, max=1000), HTML(value='')))"
      ]
     },
     "metadata": {},
     "output_type": "display_data"
    },
    {
     "name": "stdout",
     "output_type": "stream",
     "text": [
      "\n",
      "Take Rates:0.19, Mean Reawards:73.71102320399791\n",
      "Extract Data ......\n",
      "Data Size: 3142\n",
      "Create Model ......\n",
      "Fit Model ......\n"
     ]
    },
    {
     "data": {
      "application/vnd.jupyter.widget-view+json": {
       "model_id": "c36e6e23d3d345b79294eabe2ae941a7",
       "version_major": 2,
       "version_minor": 0
      },
      "text/plain": [
       "HBox(children=(IntProgress(value=0, max=1000), HTML(value='')))"
      ]
     },
     "metadata": {},
     "output_type": "display_data"
    },
    {
     "name": "stdout",
     "output_type": "stream",
     "text": [
      "\n",
      "Take Rates:0.269, Mean Reawards:111.4757047063834\n",
      "Extract Data ......\n",
      "Data Size: 4535\n",
      "Create Model ......\n",
      "Fit Model ......\n"
     ]
    },
    {
     "data": {
      "application/vnd.jupyter.widget-view+json": {
       "model_id": "d7a48df1664b43b39c314d70da49e762",
       "version_major": 2,
       "version_minor": 0
      },
      "text/plain": [
       "HBox(children=(IntProgress(value=0, max=1000), HTML(value='')))"
      ]
     },
     "metadata": {},
     "output_type": "display_data"
    },
    {
     "name": "stdout",
     "output_type": "stream",
     "text": [
      "\n",
      "Take Rates:0.287, Mean Reawards:118.18049326185815\n",
      "Total Take Rates:0.24866666666666667, Total Mean Reawards:101.12240705741284\n"
     ]
    }
   ],
   "source": [
    "agent21 = Agent2(epochs=10, verbose=False)\n",
    "rewards, takes = test_agent(agent21, 1000, 3, online=True)"
   ]
  },
  {
   "cell_type": "markdown",
   "metadata": {},
   "source": [
    "## Model-4 Random Forest"
   ]
  },
  {
   "cell_type": "code",
   "execution_count": 72,
   "metadata": {
    "ExecuteTime": {
     "end_time": "2019-02-27T15:57:54.598878Z",
     "start_time": "2019-02-27T15:57:54.583907Z"
    }
   },
   "outputs": [],
   "source": [
    "class Agent3(BaseAgent):\n",
    "    '''\n",
    "    LightBM\n",
    "    '''\n",
    "    \n",
    "            \n",
    "    def __init__(self, epochs=50, model_params =None,verbose=False ):\n",
    "        '''\n",
    "            Set model\n",
    "        '''\n",
    "        self.num_round = epochs\n",
    "        self.params = {'num_leaves':31, 'num_trees':100, 'objective':'binary'}\n",
    "        self.params['metric'] = 'auc'\n",
    "        if model_params:\n",
    "            self.params.update(model_params)\n",
    "                 \n",
    "    def reset_state(self, nb_users, nb_items, hist_df):\n",
    "        ## reset data\n",
    "        self.nb_users, self.nb_items, self.hist_df = nb_users, nb_items, hist_df        \n",
    "        hist_df['action'] = hist_df.reward > 0\n",
    "        \n",
    "        ## extrain triple data\n",
    "        print('Extract Data ......')\n",
    "        train_data = self. _data_preprocessing(self.hist_df)\n",
    "        \n",
    "        ## Training model with new data\n",
    "        print('Fit Model ......')\n",
    "        \n",
    "        self.model = self.fit(train_data, self.params)\n",
    "        \n",
    "    \n",
    "    def fit(self, train_data ,params = None, verbose=True):\n",
    "        if params:\n",
    "            self.params.update(params)\n",
    "        self.model =  lgb.train(self.params, train_data, self.num_round)\n",
    "        return self.model\n",
    "\n",
    "        \n",
    "    def predict(self, state):\n",
    "        return np.argmax(self.predict_prob(state))\n",
    "    \n",
    "    \n",
    "    def predict_prob(self, state):\n",
    "        state = np.array(state, dtype=int)\n",
    "        return self.model.predict( state)\n",
    "    \n",
    "    \n",
    "    def update(self, state, action ,reward):\n",
    "        '''\n",
    "        Update model with new data.\n",
    "        This function is used for online model\n",
    "        '''\n",
    "        user_id = state[action][0]\n",
    "        item_id = state[action][1]\n",
    "\n",
    "        row = { 'user':state[action][0],\n",
    "                    'item':state[action][1],\n",
    "                    'price':state[action][2],\n",
    "                    'reward': reward,\n",
    "                    'weight': 1,\n",
    "                    'v0':state[action][3],\n",
    "                    'v1':state[action][4],\n",
    "                    'v2':state[action][5],\n",
    "                    'v3':state[action][6],\n",
    "                    'v4':state[action][7],\n",
    "                 }\n",
    "        try:\n",
    "            self.hist_df = self.hist_df.append(row, ignore_index=True)\n",
    "            train_data = self._data_preprocessing(self.hist_df)\n",
    "            self.fit(train_data, self.params)\n",
    "            \n",
    "        except Exception as e:\n",
    "            print(('user_id:', user_id))\n",
    "            print(state)\n",
    "            print(triplet_inputs)\n",
    "            raise Exception(e)\n",
    "    \n",
    "            \n",
    "    def _data_preprocessing(self, hist_df):\n",
    "        '''\n",
    "        Transformation orignal data to trainable form\n",
    "        '''\n",
    "        X_train = hist_df[ ['user', 'item', 'price','v0', 'v1', 'v2', 'v3', 'v4']]\n",
    "        y_train = hist_df['action']\n",
    "        train_data = lgb.Dataset(X_train, label=y_train)\n",
    "        \n",
    "        return train_data\n",
    "        \n",
    "        \n",
    "        \n",
    "    def _build_model(self,**argument):\n",
    "                \n",
    "        return lgb.LGBMClassifier(**argument)\n",
    "        "
   ]
  },
  {
   "cell_type": "markdown",
   "metadata": {},
   "source": [
    "###  Test"
   ]
  },
  {
   "cell_type": "code",
   "execution_count": 73,
   "metadata": {
    "ExecuteTime": {
     "end_time": "2019-02-27T15:59:55.062193Z",
     "start_time": "2019-02-27T15:57:55.899871Z"
    }
   },
   "outputs": [
    {
     "name": "stdout",
     "output_type": "stream",
     "text": [
      "Extract Data ......\n",
      "Fit Model ......\n"
     ]
    },
    {
     "data": {
      "application/vnd.jupyter.widget-view+json": {
       "model_id": "7e65a69eb7ee4bc5b2e9f491900069a3",
       "version_major": 2,
       "version_minor": 0
      },
      "text/plain": [
       "HBox(children=(IntProgress(value=0, max=1000), HTML(value='')))"
      ]
     },
     "metadata": {},
     "output_type": "display_data"
    },
    {
     "name": "stdout",
     "output_type": "stream",
     "text": [
      "\n",
      "Take Rates:0.22, Mean Reawards:118.64634969642262\n",
      "Extract Data ......\n",
      "Fit Model ......\n"
     ]
    },
    {
     "data": {
      "application/vnd.jupyter.widget-view+json": {
       "model_id": "5c0e779aa14d44e28ad2d60ea7f63166",
       "version_major": 2,
       "version_minor": 0
      },
      "text/plain": [
       "HBox(children=(IntProgress(value=0, max=1000), HTML(value='')))"
      ]
     },
     "metadata": {},
     "output_type": "display_data"
    },
    {
     "name": "stdout",
     "output_type": "stream",
     "text": [
      "\n",
      "Take Rates:0.269, Mean Reawards:134.11473711822467\n",
      "Extract Data ......\n",
      "Fit Model ......\n"
     ]
    },
    {
     "data": {
      "application/vnd.jupyter.widget-view+json": {
       "model_id": "4a3893daa66b435a8d429196d1ed58bd",
       "version_major": 2,
       "version_minor": 0
      },
      "text/plain": [
       "HBox(children=(IntProgress(value=0, max=1000), HTML(value='')))"
      ]
     },
     "metadata": {},
     "output_type": "display_data"
    },
    {
     "name": "stdout",
     "output_type": "stream",
     "text": [
      "\n",
      "Take Rates:0.305, Mean Reawards:168.64493057980096\n",
      "Total Take Rates:0.26466666666666666, Total Mean Reawards:140.46867246481634\n"
     ]
    }
   ],
   "source": [
    "agent31 = Agent3(epochs=10, verbose=False)\n",
    "rewards, takes = test_agent(agent31, 1000, 3, online=False)"
   ]
  },
  {
   "cell_type": "code",
   "execution_count": 75,
   "metadata": {
    "ExecuteTime": {
     "end_time": "2019-02-27T16:17:23.377268Z",
     "start_time": "2019-02-27T16:06:19.566428Z"
    }
   },
   "outputs": [
    {
     "name": "stdout",
     "output_type": "stream",
     "text": [
      "Extract Data ......\n",
      "Fit Model ......\n"
     ]
    },
    {
     "data": {
      "application/vnd.jupyter.widget-view+json": {
       "model_id": "9d5f5b31bc5543bc9f892f9abf0e2de5",
       "version_major": 2,
       "version_minor": 0
      },
      "text/plain": [
       "HBox(children=(IntProgress(value=0, max=1000), HTML(value='')))"
      ]
     },
     "metadata": {},
     "output_type": "display_data"
    },
    {
     "name": "stdout",
     "output_type": "stream",
     "text": [
      "\n",
      "Take Rates:0.314, Mean Reawards:174.89410351794143\n",
      "Extract Data ......\n",
      "Fit Model ......\n"
     ]
    },
    {
     "data": {
      "application/vnd.jupyter.widget-view+json": {
       "model_id": "2438e46624fe4e968671563c3e44194a",
       "version_major": 2,
       "version_minor": 0
      },
      "text/plain": [
       "HBox(children=(IntProgress(value=0, max=1000), HTML(value='')))"
      ]
     },
     "metadata": {},
     "output_type": "display_data"
    },
    {
     "name": "stdout",
     "output_type": "stream",
     "text": [
      "\n",
      "Take Rates:0.251, Mean Reawards:131.26315718943735\n",
      "Extract Data ......\n",
      "Fit Model ......\n"
     ]
    },
    {
     "data": {
      "application/vnd.jupyter.widget-view+json": {
       "model_id": "5c21cf84f3a84dcf8362b25ee7ef114f",
       "version_major": 2,
       "version_minor": 0
      },
      "text/plain": [
       "HBox(children=(IntProgress(value=0, max=1000), HTML(value='')))"
      ]
     },
     "metadata": {},
     "output_type": "display_data"
    },
    {
     "name": "stdout",
     "output_type": "stream",
     "text": [
      "\n",
      "Take Rates:0.293, Mean Reawards:187.5031038381028\n",
      "Total Take Rates:0.286, Total Mean Reawards:164.55345484849335\n"
     ]
    }
   ],
   "source": [
    "agent31 = Agent3(epochs=10, verbose=False)\n",
    "rewards, takes = test_agent(agent31, 1000, 3, online=True)"
   ]
  },
  {
   "cell_type": "code",
   "execution_count": null,
   "metadata": {},
   "outputs": [],
   "source": []
  }
 ],
 "metadata": {
  "kernelspec": {
   "display_name": "Python [conda env:tf_gpu]",
   "language": "python",
   "name": "conda-env-tf_gpu-py"
  },
  "language_info": {
   "codemirror_mode": {
    "name": "ipython",
    "version": 3
   },
   "file_extension": ".py",
   "mimetype": "text/x-python",
   "name": "python",
   "nbconvert_exporter": "python",
   "pygments_lexer": "ipython3",
   "version": "3.6.8"
  },
  "toc": {
   "base_numbering": 1,
   "nav_menu": {},
   "number_sections": true,
   "sideBar": true,
   "skip_h1_title": false,
   "title_cell": "Table of Contents",
   "title_sidebar": "Contents",
   "toc_cell": false,
   "toc_position": {
    "height": "706.364px",
    "left": "595px",
    "top": "110.284px",
    "width": "349.063px"
   },
   "toc_section_display": true,
   "toc_window_display": true
  },
  "varInspector": {
   "cols": {
    "lenName": 16,
    "lenType": 16,
    "lenVar": 40
   },
   "kernels_config": {
    "python": {
     "delete_cmd_postfix": "",
     "delete_cmd_prefix": "del ",
     "library": "var_list.py",
     "varRefreshCmd": "print(var_dic_list())"
    },
    "r": {
     "delete_cmd_postfix": ") ",
     "delete_cmd_prefix": "rm(",
     "library": "var_list.r",
     "varRefreshCmd": "cat(var_dic_list()) "
    }
   },
   "types_to_exclude": [
    "module",
    "function",
    "builtin_function_or_method",
    "instance",
    "_Feature"
   ],
   "window_display": false
  }
 },
 "nbformat": 4,
 "nbformat_minor": 2
}
