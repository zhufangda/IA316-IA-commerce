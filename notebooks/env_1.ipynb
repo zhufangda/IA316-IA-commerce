{
 "cells": [
  {
   "cell_type": "code",
   "execution_count": 72,
   "metadata": {
    "ExecuteTime": {
     "end_time": "2019-02-24T17:56:42.873070Z",
     "start_time": "2019-02-24T17:56:42.693086Z"
    }
   },
   "outputs": [],
   "source": [
    "import sys\n",
    "sys.path.append('..')\n",
    "from src import envs\n",
    "\n",
    "import numpy as np\n",
    "from keras.callbacks import EarlyStopping\n",
    "from keras.layers import Input, Embedding, Flatten, Dot\n",
    "from keras.models import Model\n",
    "\n",
    "from time import sleep\n",
    "from tqdm import tqdm_notebook as tqdm\n",
    "\n",
    "import pandas as pd\n",
    "from surprise import Dataset, Reader\n",
    "from surprise import SVD\n",
    "\n",
    " \n",
    "\n",
    "import tensorflow as tf\n",
    "from keras.backend.tensorflow_backend import set_session\n",
    "config = tf.ConfigProto()\n",
    "config.gpu_options.per_process_gpu_memory_fraction = 0.3\n",
    "set_session(tf.Session(config=config))"
   ]
  },
  {
   "cell_type": "code",
   "execution_count": 73,
   "metadata": {
    "ExecuteTime": {
     "end_time": "2019-02-24T17:56:43.481488Z",
     "start_time": "2019-02-24T17:56:42.924202Z"
    }
   },
   "outputs": [
    {
     "name": "stdout",
     "output_type": "stream",
     "text": [
      "------Summary-----\n",
      "key:item_history, \tsize:10000, \ttype:<class 'int'>\n",
      "key:\tnb_items, \tvalue:\t300\n",
      "key:\tnb_users, \tvalue:\t100\n",
      "key:\tnext_item, \tvalue:\t58\n",
      "key:\tnext_user, \tvalue:\t93\n",
      "key:rating_history, \tsize:10000, \ttype:<class 'int'>\n",
      "key:user_history, \tsize:10000, \ttype:<class 'int'>\n"
     ]
    }
   ],
   "source": [
    "data = envs.req_reset(envs='first', verbose=True)"
   ]
  },
  {
   "cell_type": "markdown",
   "metadata": {},
   "source": [
    "# Model"
   ]
  },
  {
   "cell_type": "markdown",
   "metadata": {},
   "source": [
    "## BaseModel"
   ]
  },
  {
   "cell_type": "code",
   "execution_count": 74,
   "metadata": {
    "ExecuteTime": {
     "end_time": "2019-02-24T17:56:43.534477Z",
     "start_time": "2019-02-24T17:56:43.529477Z"
    }
   },
   "outputs": [],
   "source": [
    "class BaseModel(object):\n",
    "    \n",
    "    def __init__(self,nb_user, nb_items):\n",
    "        pass\n",
    "        \n",
    "    def update(self, X, y ):\n",
    "        '''\n",
    "        This function used to update model with new data.\n",
    "        Param:\n",
    "            X : [user, item], user and item should be a list\n",
    "            y : rating, rating should be a list\n",
    "            \n",
    "        '''\n",
    "        pass\n",
    "        \n",
    "        \n",
    "    def fit(self, X, y, verbose=3):\n",
    "        \"\"\"\n",
    "        embedding model, with inputs of \"user_id\", \"item_id\"\n",
    "        \n",
    "        Param:\n",
    "            X : [user_history, item_history]\n",
    "            y : rating_history\n",
    "        \"\"\"\n",
    "        pass\n",
    "\n",
    "    def predict(self, X):\n",
    "        '''\n",
    "        Give the prediction for the given input\n",
    "        Param:\n",
    "            X : [user_history, item_history],  user and item should be a list or array-like\n",
    "        Return:\n",
    "            prediction: prediction of action\n",
    "        \n",
    "        '''\n",
    "        return 2"
   ]
  },
  {
   "cell_type": "markdown",
   "metadata": {},
   "source": [
    "## EmbeddingModel"
   ]
  },
  {
   "cell_type": "code",
   "execution_count": 75,
   "metadata": {
    "ExecuteTime": {
     "end_time": "2019-02-24T17:56:43.595473Z",
     "start_time": "2019-02-24T17:56:43.583473Z"
    }
   },
   "outputs": [],
   "source": [
    "class EmbeddingModel(BaseModel):\n",
    "    \n",
    "    def __init__(self, nb_user, nb_items, embedding_size=30):\n",
    "        self._build_model(nb_user, nb_items, embedding_size=30)\n",
    "        \n",
    "    \n",
    "    def _build_model(self, nb_users, nb_items, embedding_size=30):\n",
    "        user_id_input = Input(shape=[1],name='user')\n",
    "        item_id_input = Input(shape=[1], name='item')\n",
    "        user_embedding = Embedding(output_dim=embedding_size, input_dim=nb_users+1,\n",
    "                           input_length=1, name='user_embedding')(user_id_input)\n",
    "\n",
    "        item_embedding = Embedding(output_dim=embedding_size, input_dim=nb_items+1,\n",
    "                           input_length=1, name='item_embedding')(item_id_input)\n",
    "        \n",
    "        user_vecs = Flatten()(user_embedding)\n",
    "        item_vecs = Flatten()(item_embedding)\n",
    "\n",
    "        y = Dot(axes=1)([user_vecs, item_vecs])\n",
    "        \n",
    "        self.model = Model(inputs=[user_id_input, item_id_input], outputs=y)\n",
    "        self.model.compile(optimizer='adam', loss='mse')\n",
    "        \n",
    "        \n",
    "    def fit(self, X, y, epochs=50, verbose=False):\n",
    "        \"\"\"\n",
    "        embedding model, with inputs of \"user_id\", \"item_id\"\n",
    "        \n",
    "        Param:\n",
    "            X : [user_history, item_history]\n",
    "            y : rating_history\n",
    "        \"\"\"\n",
    "        early_stopping = EarlyStopping(monitor='val_loss', patience=2)\n",
    "        self.model.fit(X, y, epochs=epochs, callbacks=[early_stopping],\n",
    "                       batch_size=64,  validation_split=0.1,\n",
    "                       shuffle=True, verbose=2)\n",
    "\n",
    "    \n",
    "    def update(self, X, y, epochs=1, verbose=False):\n",
    "        \"\"\"\n",
    "        embedding model, with inputs of \"user_id\", \"item_id\"\n",
    "        \n",
    "        Param:\n",
    "            X : [user_history, item_history]\n",
    "            y : rating_history\n",
    "        \"\"\"\n",
    "        self.model.fit(X, y, epochs=epochs, verbose=verbose)\n",
    "        \n",
    "    def predict(self, X):\n",
    "        \"\"\"\n",
    "        perdict a rating of embedding model\n",
    "        \n",
    "        Params:\n",
    "            input_data : [users, itmes]\n",
    "        Returns:\n",
    "            input\n",
    "        \"\"\"\n",
    "        pred = self.model.predict(X)\n",
    "        return float(pred)\n",
    "    \n"
   ]
  },
  {
   "cell_type": "markdown",
   "metadata": {},
   "source": [
    "## SGD Model"
   ]
  },
  {
   "cell_type": "code",
   "execution_count": 76,
   "metadata": {
    "ExecuteTime": {
     "end_time": "2019-02-24T17:56:43.788367Z",
     "start_time": "2019-02-24T17:56:43.779328Z"
    }
   },
   "outputs": [],
   "source": [
    "class SGDModel(BaseModel):\n",
    "    \n",
    "    def __init__(self, nb_users, nb_items):\n",
    "        self.algo = SVD()\n",
    "        pass\n",
    "        \n",
    "    \n",
    "    def fit(self, X, y, verbose=True ):\n",
    "        \"\"\"\n",
    "        SGD model, with inputs of \"user_id\", \"item_id\"\n",
    "        \"\"\"\n",
    "        self.df = pd.DataFrame({'user':X[0], 'item':X[1], 'rating':y})\n",
    "        reader = Reader(rating_scale=(1, 5))\n",
    "        train_spr = Dataset.load_from_df(self.df[['user','item','rating']],reader).build_full_trainset()\n",
    "\n",
    "        self.algo.fit(train_spr)\n",
    "\n",
    "    def update(self, X, y):\n",
    "        self.df = self.df.append({'user':X[0][0], 'item':X[1][0], 'rating':y[0]},ignore_index=True )\n",
    "        reader = Reader(rating_scale=(1, 5))\n",
    "        train_spr = Dataset.load_from_df(self.df[['user','item','rating']],reader).build_full_trainset()\n",
    "        self.algo = SVD()\n",
    "        self.algo.fit(train_spr)\n",
    "    \n",
    "    def predict(self, X):\n",
    "        \"\"\"\n",
    "        perdict a rating of SGD model\n",
    "        \"\"\"\n",
    "        pred = self.algo.predict(uid=X[0][0], iid=X[1][0])[3]\n",
    "        return pred"
   ]
  },
  {
   "cell_type": "markdown",
   "metadata": {
    "ExecuteTime": {
     "end_time": "2019-02-24T17:17:40.382553Z",
     "start_time": "2019-02-24T17:17:40.372517Z"
    }
   },
   "source": [
    "## User-based collaborative filtering."
   ]
  },
  {
   "cell_type": "code",
   "execution_count": 77,
   "metadata": {
    "ExecuteTime": {
     "end_time": "2019-02-24T17:56:44.059945Z",
     "start_time": "2019-02-24T17:56:44.041950Z"
    }
   },
   "outputs": [],
   "source": [
    "class UserBasedModel():\n",
    "    '''\n",
    "    User-based collaborative filtering.\n",
    "    '''\n",
    "    \n",
    "    def __init__(self):\n",
    "        pass\n",
    "    \n",
    "    def _similarity(self, ratings):\n",
    "\n",
    "        # vecteur contenant pour chaque utilisateur le nombre de notes données\n",
    "        r_user = (ratings>0).sum(axis=1)  \n",
    "\n",
    "        # vecteur contenant pour chaque utilisateur la moyenne des notes données\n",
    "        m_user = np.divide(ratings.sum(axis=1) , r_user, where=r_user!=0)\n",
    "\n",
    "        # Notes recentrées par la moyenne par utilisateur : chaque ligne i contient le vecteur \\bar r_i\n",
    "        ratings_ctr = ratings.T - ((ratings.T!=0) * m_user)\n",
    "        ratings_ctr = ratings_ctr.T\n",
    "\n",
    "        # Matrice de Gram, contenant les produits scalaires\n",
    "        sim = ratings_ctr.dot(ratings_ctr.T)\n",
    "\n",
    "        # Renormalisation\n",
    "        norms = np.array([np.sqrt(np.diagonal(sim))])\n",
    "        sim = sim / norms / norms.T  \n",
    "        # (En numpy, diviser une matrice par un vecteur ligne (resp. colonne) \n",
    "        # revient à diviser chaque ligne (resp. colonne) terme à terme par les éléments du vecteur)\n",
    "\n",
    "        return sim\n",
    "\n",
    "    def _phi(self, x):\n",
    "        return np.maximum(x,0) \n",
    "\n",
    "    def fit(self, X, y, verbose):\n",
    "        \n",
    "        self.df = pd.DataFrame({'user_id':X[0], 'item_id':X[1], 'rating':y})\n",
    "        self._calcule()\n",
    "       \n",
    "    \n",
    "    def _calcule(self):\n",
    "        '''\n",
    "        Calculer le model\n",
    "        '''\n",
    "        moviemat = pd.pivot_table(self.df,index='user_id',columns='item_id',values='rating')\n",
    "        \n",
    "        self.ratings = moviemat.fillna(0).values\n",
    "        self.user_max, self.item_max = self.ratings.shape\n",
    "        \n",
    "        sim = self._similarity(self.ratings)\n",
    "        numerator = self._phi(sim).dot(self.ratings)\n",
    "        denominator = self._phi(sim).dot(self.ratings>0)\n",
    "        self.pred_ratings = np.divide(numerator,denominator,where = denominator!=0)\n",
    "\n",
    "    def predict(self, X):\n",
    "        \n",
    "        user_id, item_id = X[0][0], X[1][0]\n",
    "        if user_id > self.user_max or item_id > self.item_max:\n",
    "            raise AttributeError(f'The user_id({user_id}) or the item_id{item_id} is unregistered. User_id ' )\n",
    "        return self.pred_ratings[user_id, item_id]\n",
    "\n",
    "    def update(self, X, y):\n",
    "        \n",
    "        user_id, item_id,rating = X[0][0],X[1][0], y[0]\n",
    "        if user_id > self.user_max or item_id > self.item_max:\n",
    "            raise AttributeError(f'The user_id({user_id}) or the item_id{item_id} is unregistered. User_id ' )\n",
    "            \n",
    "        self.ratings[user_id, item_id] == rating\n",
    "        \n",
    "        self._calcule()\n",
    "        "
   ]
  },
  {
   "cell_type": "code",
   "execution_count": null,
   "metadata": {},
   "outputs": [],
   "source": []
  },
  {
   "cell_type": "markdown",
   "metadata": {},
   "source": [
    "# Test"
   ]
  },
  {
   "cell_type": "code",
   "execution_count": 78,
   "metadata": {
    "ExecuteTime": {
     "end_time": "2019-02-24T17:56:44.466050Z",
     "start_time": "2019-02-24T17:56:44.456479Z"
    }
   },
   "outputs": [],
   "source": [
    "def test_model(model, n_iter=500, online=True, verbose=2):\n",
    "    \"\"\"\n",
    "    test embedding model's performance\n",
    "    ---------------------------\n",
    "\n",
    "    online: 'bool', \"True\" means after each time of prediction, update the model\n",
    "                    \"False\" means don't update modeln_iter: 'int', times of applying \"req_predict\" function to get test data\n",
    "\n",
    "    \"\"\"\n",
    "    \n",
    "    data_reset = envs.req_reset(envs='first', verbose=False)\n",
    "    nb_users, nb_items = data_reset['nb_users'], data_reset['nb_items'] \n",
    "    next_X = [[data_reset['next_user']], [data_reset['next_item']]] \n",
    "    X = [data_reset['user_history'], data_reset['item_history'] ]\n",
    "    y = data_reset['rating_history']\n",
    "    model.fit(X, y, verbose=verbose)\n",
    "    mse, mae = 0, 0\n",
    "    \n",
    "    for i in tqdm(range(n_iter)):\n",
    "        sleep(0.05)\n",
    "        prediction = model.predict(next_X)\n",
    "        test = envs.req_predict(prediction, envs='first', verbose=False)\n",
    "        next_X = [[test['next_user']], [test['next_item']]]\n",
    "        next_y = test['rating']\n",
    "        \n",
    "        mse += (next_y - prediction) ** 2\n",
    "        mae += np.abs(next_y - prediction)\n",
    "\n",
    "        if online:\n",
    "            model.update(next_X,[next_y])\n",
    "\n",
    "    print('mse: ',float(mse)/n_iter)\n",
    "    print('mae: ', float(mae)/n_iter)"
   ]
  },
  {
   "cell_type": "markdown",
   "metadata": {
    "ExecuteTime": {
     "end_time": "2019-02-24T00:08:19.404487Z",
     "start_time": "2019-02-24T00:08:19.400476Z"
    }
   },
   "source": [
    "### Test for baseline"
   ]
  },
  {
   "cell_type": "code",
   "execution_count": 79,
   "metadata": {
    "ExecuteTime": {
     "end_time": "2019-02-24T17:57:25.533720Z",
     "start_time": "2019-02-24T17:56:44.732623Z"
    }
   },
   "outputs": [
    {
     "data": {
      "application/vnd.jupyter.widget-view+json": {
       "model_id": "bddfaf3e7b4648ada891a32e5831086c",
       "version_major": 2,
       "version_minor": 0
      },
      "text/plain": [
       "HBox(children=(IntProgress(value=0, max=500), HTML(value='')))"
      ]
     },
     "metadata": {},
     "output_type": "display_data"
    },
    {
     "name": "stdout",
     "output_type": "stream",
     "text": [
      "\n",
      "mse:  2.72\n",
      "mae:  1.3\n"
     ]
    }
   ],
   "source": [
    "model = BaseModel(300,100)\n",
    "test_model(model)"
   ]
  },
  {
   "cell_type": "markdown",
   "metadata": {},
   "source": [
    "## Test for EmbeddingModel"
   ]
  },
  {
   "cell_type": "markdown",
   "metadata": {},
   "source": [
    "### Embedding Size:30, Offline"
   ]
  },
  {
   "cell_type": "code",
   "execution_count": 80,
   "metadata": {
    "ExecuteTime": {
     "end_time": "2019-02-24T17:58:16.019004Z",
     "start_time": "2019-02-24T17:57:25.582717Z"
    },
    "scrolled": false
   },
   "outputs": [
    {
     "name": "stdout",
     "output_type": "stream",
     "text": [
      "Train on 9000 samples, validate on 1000 samples\n",
      "Epoch 1/50\n",
      " - 1s - loss: 9.8404 - val_loss: 9.7537\n",
      "Epoch 2/50\n",
      " - 1s - loss: 9.7938 - val_loss: 9.6199\n",
      "Epoch 3/50\n",
      " - 1s - loss: 9.4257 - val_loss: 8.8606\n",
      "Epoch 4/50\n",
      " - 1s - loss: 8.4795 - val_loss: 7.6692\n",
      "Epoch 5/50\n",
      " - 1s - loss: 7.5556 - val_loss: 6.8656\n",
      "Epoch 6/50\n",
      " - 1s - loss: 7.0802 - val_loss: 6.5282\n",
      "Epoch 7/50\n",
      " - 1s - loss: 6.9040 - val_loss: 6.4103\n",
      "Epoch 8/50\n",
      " - 1s - loss: 6.8449 - val_loss: 6.3683\n",
      "Epoch 9/50\n",
      " - 1s - loss: 6.8239 - val_loss: 6.3563\n",
      "Epoch 10/50\n",
      " - 1s - loss: 6.8161 - val_loss: 6.3512\n",
      "Epoch 11/50\n",
      " - 1s - loss: 6.8131 - val_loss: 6.3497\n",
      "Epoch 12/50\n",
      " - 1s - loss: 6.8115 - val_loss: 6.3497\n",
      "Epoch 13/50\n",
      " - 1s - loss: 6.8101 - val_loss: 6.3487\n",
      "Epoch 14/50\n",
      " - 1s - loss: 6.8092 - val_loss: 6.3492\n",
      "Epoch 15/50\n",
      " - 1s - loss: 6.8078 - val_loss: 6.3492\n"
     ]
    },
    {
     "data": {
      "application/vnd.jupyter.widget-view+json": {
       "model_id": "1b76062130464433a2de025ec5d0ebe9",
       "version_major": 2,
       "version_minor": 0
      },
      "text/plain": [
       "HBox(children=(IntProgress(value=0, max=500), HTML(value='')))"
      ]
     },
     "metadata": {},
     "output_type": "display_data"
    },
    {
     "name": "stdout",
     "output_type": "stream",
     "text": [
      "\n",
      "mse:  6.910711830907748\n",
      "mae:  2.112194847583771\n"
     ]
    }
   ],
   "source": [
    "model = EmbeddingModel(300, 100, embedding_size=30)\n",
    "test_model(model, online=False, verbose=True)"
   ]
  },
  {
   "cell_type": "markdown",
   "metadata": {},
   "source": [
    "### Embedding Size:30 - Online"
   ]
  },
  {
   "cell_type": "code",
   "execution_count": 81,
   "metadata": {
    "ExecuteTime": {
     "end_time": "2019-02-24T17:59:26.006101Z",
     "start_time": "2019-02-24T17:58:16.068019Z"
    }
   },
   "outputs": [
    {
     "name": "stdout",
     "output_type": "stream",
     "text": [
      "Train on 9000 samples, validate on 1000 samples\n",
      "Epoch 1/50\n",
      " - 1s - loss: 9.6014 - val_loss: 9.2656\n",
      "Epoch 2/50\n",
      " - 1s - loss: 9.5524 - val_loss: 9.1406\n",
      "Epoch 3/50\n",
      " - 1s - loss: 9.1866 - val_loss: 8.4904\n",
      "Epoch 4/50\n",
      " - 1s - loss: 8.2823 - val_loss: 7.4831\n",
      "Epoch 5/50\n",
      " - 1s - loss: 7.3696 - val_loss: 6.7697\n",
      "Epoch 6/50\n",
      " - 1s - loss: 6.8569 - val_loss: 6.4418\n",
      "Epoch 7/50\n",
      " - 1s - loss: 6.6465 - val_loss: 6.3236\n",
      "Epoch 8/50\n",
      " - 1s - loss: 6.5737 - val_loss: 6.2866\n",
      "Epoch 9/50\n",
      " - 1s - loss: 6.5491 - val_loss: 6.2733\n",
      "Epoch 10/50\n",
      " - 1s - loss: 6.5396 - val_loss: 6.2704\n",
      "Epoch 11/50\n",
      " - 1s - loss: 6.5348 - val_loss: 6.2694\n",
      "Epoch 12/50\n",
      " - 1s - loss: 6.5307 - val_loss: 6.2652\n",
      "Epoch 13/50\n",
      " - 1s - loss: 6.5259 - val_loss: 6.2610\n",
      "Epoch 14/50\n",
      " - 1s - loss: 6.5212 - val_loss: 6.2571\n",
      "Epoch 15/50\n",
      " - 1s - loss: 6.5152 - val_loss: 6.2522\n",
      "Epoch 16/50\n",
      " - 1s - loss: 6.5085 - val_loss: 6.2455\n",
      "Epoch 17/50\n",
      " - 1s - loss: 6.5009 - val_loss: 6.2372\n",
      "Epoch 18/50\n",
      " - 1s - loss: 6.4929 - val_loss: 6.2282\n",
      "Epoch 19/50\n",
      " - 1s - loss: 6.4848 - val_loss: 6.2220\n",
      "Epoch 20/50\n",
      " - 1s - loss: 6.4762 - val_loss: 6.2131\n",
      "Epoch 21/50\n",
      " - 1s - loss: 6.4676 - val_loss: 6.2042\n",
      "Epoch 22/50\n",
      " - 1s - loss: 6.4596 - val_loss: 6.1957\n",
      "Epoch 23/50\n",
      " - 1s - loss: 6.4515 - val_loss: 6.1871\n",
      "Epoch 24/50\n",
      " - 1s - loss: 6.4431 - val_loss: 6.1790\n",
      "Epoch 25/50\n",
      " - 1s - loss: 6.4355 - val_loss: 6.1716\n",
      "Epoch 26/50\n",
      " - 1s - loss: 6.4278 - val_loss: 6.1650\n",
      "Epoch 27/50\n",
      " - 1s - loss: 6.4203 - val_loss: 6.1587\n",
      "Epoch 28/50\n",
      " - 1s - loss: 6.4132 - val_loss: 6.1504\n",
      "Epoch 29/50\n",
      " - 1s - loss: 6.4063 - val_loss: 6.1443\n",
      "Epoch 30/50\n",
      " - 1s - loss: 6.3998 - val_loss: 6.1379\n",
      "Epoch 31/50\n",
      " - 1s - loss: 6.3937 - val_loss: 6.1321\n",
      "Epoch 32/50\n",
      " - 1s - loss: 6.3884 - val_loss: 6.1271\n",
      "Epoch 33/50\n",
      " - 1s - loss: 6.3833 - val_loss: 6.1223\n",
      "Epoch 34/50\n",
      " - 1s - loss: 6.3790 - val_loss: 6.1186\n",
      "Epoch 35/50\n",
      " - 1s - loss: 6.3750 - val_loss: 6.1145\n",
      "Epoch 36/50\n",
      " - 1s - loss: 6.3716 - val_loss: 6.1110\n",
      "Epoch 37/50\n",
      " - 1s - loss: 6.3685 - val_loss: 6.1086\n",
      "Epoch 38/50\n",
      " - 1s - loss: 6.3660 - val_loss: 6.1064\n",
      "Epoch 39/50\n",
      " - 1s - loss: 6.3637 - val_loss: 6.1038\n",
      "Epoch 40/50\n",
      " - 1s - loss: 6.3616 - val_loss: 6.1021\n",
      "Epoch 41/50\n",
      " - 1s - loss: 6.3600 - val_loss: 6.1013\n",
      "Epoch 42/50\n",
      " - 1s - loss: 6.3584 - val_loss: 6.1003\n",
      "Epoch 43/50\n",
      " - 1s - loss: 6.3571 - val_loss: 6.0998\n",
      "Epoch 44/50\n",
      " - 1s - loss: 6.3557 - val_loss: 6.0986\n",
      "Epoch 45/50\n",
      " - 1s - loss: 6.3545 - val_loss: 6.0980\n",
      "Epoch 46/50\n",
      " - 1s - loss: 6.3535 - val_loss: 6.0980\n",
      "Epoch 47/50\n",
      " - 1s - loss: 6.3525 - val_loss: 6.0984\n"
     ]
    },
    {
     "data": {
      "application/vnd.jupyter.widget-view+json": {
       "model_id": "2fd26f12494344e28c076f0608a69a1f",
       "version_major": 2,
       "version_minor": 0
      },
      "text/plain": [
       "HBox(children=(IntProgress(value=0, max=500), HTML(value='')))"
      ]
     },
     "metadata": {},
     "output_type": "display_data"
    },
    {
     "name": "stdout",
     "output_type": "stream",
     "text": [
      "\n",
      "mse:  6.417668297515005\n",
      "mae:  1.9562104734182357\n"
     ]
    }
   ],
   "source": [
    "model = EmbeddingModel(300, 100, embedding_size=30)\n",
    "test_model(model, online=True, verbose=True)"
   ]
  },
  {
   "cell_type": "markdown",
   "metadata": {},
   "source": [
    "### Embedding Size:10 - Online"
   ]
  },
  {
   "cell_type": "code",
   "execution_count": 82,
   "metadata": {
    "ExecuteTime": {
     "end_time": "2019-02-24T18:00:34.811697Z",
     "start_time": "2019-02-24T17:59:26.053098Z"
    }
   },
   "outputs": [
    {
     "name": "stdout",
     "output_type": "stream",
     "text": [
      "Train on 9000 samples, validate on 1000 samples\n",
      "Epoch 1/50\n",
      " - 1s - loss: 10.6560 - val_loss: 10.9013\n",
      "Epoch 2/50\n",
      " - 1s - loss: 10.5954 - val_loss: 10.7573\n",
      "Epoch 3/50\n",
      " - 1s - loss: 10.1208 - val_loss: 9.9885\n",
      "Epoch 4/50\n",
      " - 1s - loss: 9.0004 - val_loss: 8.8743\n",
      "Epoch 5/50\n",
      " - 1s - loss: 7.9610 - val_loss: 8.1357\n",
      "Epoch 6/50\n",
      " - 1s - loss: 7.4350 - val_loss: 7.8320\n",
      "Epoch 7/50\n",
      " - 1s - loss: 7.2466 - val_loss: 7.7235\n",
      "Epoch 8/50\n",
      " - 1s - loss: 7.1884 - val_loss: 7.6854\n",
      "Epoch 9/50\n",
      " - 1s - loss: 7.1708 - val_loss: 7.6718\n",
      "Epoch 10/50\n",
      " - 1s - loss: 7.1655 - val_loss: 7.6680\n",
      "Epoch 11/50\n",
      " - 1s - loss: 7.1630 - val_loss: 7.6658\n",
      "Epoch 12/50\n",
      " - 1s - loss: 7.1620 - val_loss: 7.6657\n",
      "Epoch 13/50\n",
      " - 1s - loss: 7.1603 - val_loss: 7.6652\n",
      "Epoch 14/50\n",
      " - 1s - loss: 7.1590 - val_loss: 7.6647\n",
      "Epoch 15/50\n",
      " - 1s - loss: 7.1578 - val_loss: 7.6634\n",
      "Epoch 16/50\n",
      " - 1s - loss: 7.1556 - val_loss: 7.6621\n",
      "Epoch 17/50\n",
      " - 1s - loss: 7.1535 - val_loss: 7.6611\n",
      "Epoch 18/50\n",
      " - 1s - loss: 7.1507 - val_loss: 7.6585\n",
      "Epoch 19/50\n",
      " - 1s - loss: 7.1472 - val_loss: 7.6574\n",
      "Epoch 20/50\n",
      " - 1s - loss: 7.1436 - val_loss: 7.6545\n",
      "Epoch 21/50\n",
      " - 1s - loss: 7.1388 - val_loss: 7.6506\n",
      "Epoch 22/50\n",
      " - 1s - loss: 7.1338 - val_loss: 7.6468\n",
      "Epoch 23/50\n",
      " - 1s - loss: 7.1272 - val_loss: 7.6412\n",
      "Epoch 24/50\n",
      " - 1s - loss: 7.1203 - val_loss: 7.6362\n",
      "Epoch 25/50\n",
      " - 1s - loss: 7.1129 - val_loss: 7.6304\n",
      "Epoch 26/50\n",
      " - 1s - loss: 7.1045 - val_loss: 7.6232\n",
      "Epoch 27/50\n",
      " - 1s - loss: 7.0960 - val_loss: 7.6160\n",
      "Epoch 28/50\n",
      " - 1s - loss: 7.0872 - val_loss: 7.6086\n",
      "Epoch 29/50\n",
      " - 1s - loss: 7.0785 - val_loss: 7.6016\n",
      "Epoch 30/50\n",
      " - 1s - loss: 7.0703 - val_loss: 7.5916\n",
      "Epoch 31/50\n",
      " - 1s - loss: 7.0621 - val_loss: 7.5845\n",
      "Epoch 32/50\n",
      " - 1s - loss: 7.0552 - val_loss: 7.5767\n",
      "Epoch 33/50\n",
      " - 1s - loss: 7.0483 - val_loss: 7.5703\n",
      "Epoch 34/50\n",
      " - 1s - loss: 7.0425 - val_loss: 7.5641\n",
      "Epoch 35/50\n",
      " - 1s - loss: 7.0374 - val_loss: 7.5595\n",
      "Epoch 36/50\n",
      " - 1s - loss: 7.0331 - val_loss: 7.5535\n",
      "Epoch 37/50\n",
      " - 1s - loss: 7.0294 - val_loss: 7.5503\n",
      "Epoch 38/50\n",
      " - 1s - loss: 7.0261 - val_loss: 7.5453\n",
      "Epoch 39/50\n",
      " - 1s - loss: 7.0231 - val_loss: 7.5436\n",
      "Epoch 40/50\n",
      " - 1s - loss: 7.0207 - val_loss: 7.5405\n",
      "Epoch 41/50\n",
      " - 1s - loss: 7.0184 - val_loss: 7.5379\n",
      "Epoch 42/50\n",
      " - 1s - loss: 7.0166 - val_loss: 7.5355\n",
      "Epoch 43/50\n",
      " - 1s - loss: 7.0147 - val_loss: 7.5330\n",
      "Epoch 44/50\n",
      " - 1s - loss: 7.0132 - val_loss: 7.5323\n",
      "Epoch 45/50\n",
      " - 1s - loss: 7.0118 - val_loss: 7.5309\n",
      "Epoch 46/50\n",
      " - 1s - loss: 7.0104 - val_loss: 7.5293\n",
      "Epoch 47/50\n",
      " - 1s - loss: 7.0092 - val_loss: 7.5288\n",
      "Epoch 48/50\n",
      " - 1s - loss: 7.0079 - val_loss: 7.5288\n",
      "Epoch 49/50\n",
      " - 1s - loss: 7.0069 - val_loss: 7.5269\n",
      "Epoch 50/50\n",
      " - 1s - loss: 7.0058 - val_loss: 7.5269\n"
     ]
    },
    {
     "data": {
      "application/vnd.jupyter.widget-view+json": {
       "model_id": "77602ef9088248e4b3d606a041b3b0ff",
       "version_major": 2,
       "version_minor": 0
      },
      "text/plain": [
       "HBox(children=(IntProgress(value=0, max=500), HTML(value='')))"
      ]
     },
     "metadata": {},
     "output_type": "display_data"
    },
    {
     "name": "stdout",
     "output_type": "stream",
     "text": [
      "\n",
      "mse:  7.483281817152181\n",
      "mae:  2.160544661998749\n"
     ]
    }
   ],
   "source": [
    "model = EmbeddingModel(300, 100, 10)\n",
    "test_model(model, online=False)"
   ]
  },
  {
   "cell_type": "markdown",
   "metadata": {
    "ExecuteTime": {
     "end_time": "2019-02-24T17:34:50.185634Z",
     "start_time": "2019-02-24T17:31:45.527Z"
    }
   },
   "source": [
    "### Embedding Size:10 - offline"
   ]
  },
  {
   "cell_type": "code",
   "execution_count": 83,
   "metadata": {
    "ExecuteTime": {
     "end_time": "2019-02-24T18:01:49.097586Z",
     "start_time": "2019-02-24T18:00:34.852661Z"
    }
   },
   "outputs": [
    {
     "name": "stdout",
     "output_type": "stream",
     "text": [
      "Train on 9000 samples, validate on 1000 samples\n",
      "Epoch 1/50\n",
      " - 1s - loss: 10.6323 - val_loss: 10.7320\n",
      "Epoch 2/50\n",
      " - 1s - loss: 10.5668 - val_loss: 10.5836\n",
      "Epoch 3/50\n",
      " - 1s - loss: 10.1415 - val_loss: 9.8941\n",
      "Epoch 4/50\n",
      " - 1s - loss: 9.1504 - val_loss: 8.8612\n",
      "Epoch 5/50\n",
      " - 1s - loss: 8.1764 - val_loss: 8.1246\n",
      "Epoch 6/50\n",
      " - 1s - loss: 7.6295 - val_loss: 7.7908\n",
      "Epoch 7/50\n",
      " - 1s - loss: 7.4078 - val_loss: 7.6657\n",
      "Epoch 8/50\n",
      " - 1s - loss: 7.3303 - val_loss: 7.6243\n",
      "Epoch 9/50\n",
      " - 1s - loss: 7.3043 - val_loss: 7.6081\n",
      "Epoch 10/50\n",
      " - 1s - loss: 7.2948 - val_loss: 7.6030\n",
      "Epoch 11/50\n",
      " - 1s - loss: 7.2910 - val_loss: 7.6003\n",
      "Epoch 12/50\n",
      " - 1s - loss: 7.2880 - val_loss: 7.5974\n",
      "Epoch 13/50\n",
      " - 1s - loss: 7.2854 - val_loss: 7.5957\n",
      "Epoch 14/50\n",
      " - 1s - loss: 7.2824 - val_loss: 7.5940\n",
      "Epoch 15/50\n",
      " - 1s - loss: 7.2793 - val_loss: 7.5911\n",
      "Epoch 16/50\n",
      " - 1s - loss: 7.2754 - val_loss: 7.5885\n",
      "Epoch 17/50\n",
      " - 1s - loss: 7.2711 - val_loss: 7.5856\n",
      "Epoch 18/50\n",
      " - 1s - loss: 7.2663 - val_loss: 7.5819\n",
      "Epoch 19/50\n",
      " - 1s - loss: 7.2613 - val_loss: 7.5789\n",
      "Epoch 20/50\n",
      " - 1s - loss: 7.2563 - val_loss: 7.5750\n",
      "Epoch 21/50\n",
      " - 1s - loss: 7.2517 - val_loss: 7.5718\n",
      "Epoch 22/50\n",
      " - 1s - loss: 7.2466 - val_loss: 7.5693\n",
      "Epoch 23/50\n",
      " - 1s - loss: 7.2423 - val_loss: 7.5647\n",
      "Epoch 24/50\n",
      " - 1s - loss: 7.2382 - val_loss: 7.5629\n",
      "Epoch 25/50\n",
      " - 1s - loss: 7.2343 - val_loss: 7.5608\n",
      "Epoch 26/50\n",
      " - 1s - loss: 7.2307 - val_loss: 7.5581\n",
      "Epoch 27/50\n",
      " - 1s - loss: 7.2272 - val_loss: 7.5560\n",
      "Epoch 28/50\n",
      " - 1s - loss: 7.2241 - val_loss: 7.5537\n",
      "Epoch 29/50\n",
      " - 1s - loss: 7.2208 - val_loss: 7.5504\n",
      "Epoch 30/50\n",
      " - 1s - loss: 7.2175 - val_loss: 7.5486\n",
      "Epoch 31/50\n",
      " - 1s - loss: 7.2144 - val_loss: 7.5468\n",
      "Epoch 32/50\n",
      " - 1s - loss: 7.2112 - val_loss: 7.5455\n",
      "Epoch 33/50\n",
      " - 1s - loss: 7.2082 - val_loss: 7.5425\n",
      "Epoch 34/50\n",
      " - 1s - loss: 7.2053 - val_loss: 7.5404\n",
      "Epoch 35/50\n",
      " - 1s - loss: 7.2023 - val_loss: 7.5387\n",
      "Epoch 36/50\n",
      " - 1s - loss: 7.1993 - val_loss: 7.5358\n",
      "Epoch 37/50\n",
      " - 1s - loss: 7.1965 - val_loss: 7.5339\n",
      "Epoch 38/50\n",
      " - 1s - loss: 7.1938 - val_loss: 7.5320\n",
      "Epoch 39/50\n",
      " - 1s - loss: 7.1914 - val_loss: 7.5291\n",
      "Epoch 40/50\n",
      " - 1s - loss: 7.1892 - val_loss: 7.5282\n",
      "Epoch 41/50\n",
      " - 1s - loss: 7.1870 - val_loss: 7.5258\n",
      "Epoch 42/50\n",
      " - 1s - loss: 7.1851 - val_loss: 7.5245\n",
      "Epoch 43/50\n",
      " - 1s - loss: 7.1833 - val_loss: 7.5234\n",
      "Epoch 44/50\n",
      " - 1s - loss: 7.1816 - val_loss: 7.5225\n",
      "Epoch 45/50\n",
      " - 1s - loss: 7.1802 - val_loss: 7.5216\n",
      "Epoch 46/50\n",
      " - 1s - loss: 7.1786 - val_loss: 7.5209\n",
      "Epoch 47/50\n",
      " - 1s - loss: 7.1773 - val_loss: 7.5199\n",
      "Epoch 48/50\n",
      " - 1s - loss: 7.1761 - val_loss: 7.5192\n",
      "Epoch 49/50\n",
      " - 1s - loss: 7.1750 - val_loss: 7.5184\n",
      "Epoch 50/50\n",
      " - 1s - loss: 7.1739 - val_loss: 7.5181\n"
     ]
    },
    {
     "data": {
      "application/vnd.jupyter.widget-view+json": {
       "model_id": "a2ec6a524724409f9dfe9b3b578db024",
       "version_major": 2,
       "version_minor": 0
      },
      "text/plain": [
       "HBox(children=(IntProgress(value=0, max=500), HTML(value='')))"
      ]
     },
     "metadata": {},
     "output_type": "display_data"
    },
    {
     "name": "stdout",
     "output_type": "stream",
     "text": [
      "\n",
      "mse:  7.577700982971179\n",
      "mae:  2.1727531677484513\n"
     ]
    }
   ],
   "source": [
    "model = EmbeddingModel(300,100,10)\n",
    "test_model(model, online=True)"
   ]
  },
  {
   "cell_type": "markdown",
   "metadata": {},
   "source": [
    "## Test for SGDModel"
   ]
  },
  {
   "cell_type": "markdown",
   "metadata": {},
   "source": [
    "### SGDModel - offline"
   ]
  },
  {
   "cell_type": "code",
   "execution_count": 84,
   "metadata": {
    "ExecuteTime": {
     "end_time": "2019-02-24T18:02:32.956066Z",
     "start_time": "2019-02-24T18:01:49.139586Z"
    }
   },
   "outputs": [
    {
     "data": {
      "application/vnd.jupyter.widget-view+json": {
       "model_id": "8e9e7e89d92a4f72b742305ce6a79936",
       "version_major": 2,
       "version_minor": 0
      },
      "text/plain": [
       "HBox(children=(IntProgress(value=0, max=500), HTML(value='')))"
      ]
     },
     "metadata": {},
     "output_type": "display_data"
    },
    {
     "name": "stdout",
     "output_type": "stream",
     "text": [
      "\n",
      "mse:  0.41887082411441856\n",
      "mae:  0.49732112232682224\n"
     ]
    }
   ],
   "source": [
    "model = SGDModel(300, 100)\n",
    "test_model(model, online=False)"
   ]
  },
  {
   "cell_type": "markdown",
   "metadata": {},
   "source": [
    "### SGDModel - online"
   ]
  },
  {
   "cell_type": "code",
   "execution_count": 85,
   "metadata": {
    "ExecuteTime": {
     "end_time": "2019-02-24T18:09:08.893067Z",
     "start_time": "2019-02-24T18:02:33.008048Z"
    }
   },
   "outputs": [
    {
     "data": {
      "application/vnd.jupyter.widget-view+json": {
       "model_id": "9152df1b8a96457f8b3f08d623afe77e",
       "version_major": 2,
       "version_minor": 0
      },
      "text/plain": [
       "HBox(children=(IntProgress(value=0, max=500), HTML(value='')))"
      ]
     },
     "metadata": {},
     "output_type": "display_data"
    },
    {
     "name": "stdout",
     "output_type": "stream",
     "text": [
      "\n",
      "mse:  0.7260943593962487\n",
      "mae:  0.6981995127767968\n"
     ]
    }
   ],
   "source": [
    "model = SGDModel(300,100)\n",
    "test_model(model, online=True)"
   ]
  },
  {
   "cell_type": "markdown",
   "metadata": {},
   "source": [
    "## User-based collaborative filtering."
   ]
  },
  {
   "cell_type": "markdown",
   "metadata": {},
   "source": [
    "### Offline"
   ]
  },
  {
   "cell_type": "code",
   "execution_count": 86,
   "metadata": {
    "ExecuteTime": {
     "end_time": "2019-02-24T18:09:48.985315Z",
     "start_time": "2019-02-24T18:09:08.939065Z"
    }
   },
   "outputs": [
    {
     "data": {
      "application/vnd.jupyter.widget-view+json": {
       "model_id": "1944f55d83ea42099e638ecf1aa80a28",
       "version_major": 2,
       "version_minor": 0
      },
      "text/plain": [
       "HBox(children=(IntProgress(value=0, max=500), HTML(value='')))"
      ]
     },
     "metadata": {},
     "output_type": "display_data"
    },
    {
     "name": "stdout",
     "output_type": "stream",
     "text": [
      "\n",
      "mse:  1.0076393690954204\n",
      "mae:  0.8173901456236159\n"
     ]
    }
   ],
   "source": [
    "model = UserBasedModel()\n",
    "test_model(model, online=False)"
   ]
  },
  {
   "cell_type": "markdown",
   "metadata": {},
   "source": [
    "### Online"
   ]
  },
  {
   "cell_type": "code",
   "execution_count": 87,
   "metadata": {
    "ExecuteTime": {
     "end_time": "2019-02-24T18:10:39.255900Z",
     "start_time": "2019-02-24T18:09:49.028283Z"
    }
   },
   "outputs": [
    {
     "data": {
      "application/vnd.jupyter.widget-view+json": {
       "model_id": "0306f60d024d4084afb890e92c104b5e",
       "version_major": 2,
       "version_minor": 0
      },
      "text/plain": [
       "HBox(children=(IntProgress(value=0, max=500), HTML(value='')))"
      ]
     },
     "metadata": {},
     "output_type": "display_data"
    },
    {
     "name": "stdout",
     "output_type": "stream",
     "text": [
      "\n",
      "mse:  0.9594703204118263\n",
      "mae:  0.7618447292647492\n"
     ]
    }
   ],
   "source": [
    "model = UserBasedModel()\n",
    "test_model(model, online=True)"
   ]
  },
  {
   "cell_type": "markdown",
   "metadata": {},
   "source": [
    "# Evalueation"
   ]
  },
  {
   "cell_type": "markdown",
   "metadata": {
    "ExecuteTime": {
     "end_time": "2019-02-24T17:44:29.321251Z",
     "start_time": "2019-02-24T17:39:58.015Z"
    }
   },
   "source": [
    "baseline :\n",
    "- mse:  2.448\n",
    "- mae:  1.192\n",
    "\n",
    "Factorisation de matrice et réseaux de neurones(embedding size: 10) - offline\n",
    "- mse 0.7845633044878243\n",
    "- mae 0.6608313537836075\n",
    "\n",
    "Factorisation de matrice et réseaux de neurones(embedding size: 10) - online\n",
    "- mse 0.697576296177385\n",
    "- mae 0.6306659514009952\n",
    "\n",
    "Factorisation de matrice et réseaux de neurones(embedding size: 30) - offline\n",
    "- mse:  6.910711830907748\n",
    "- mae:  2.112194847583771\n",
    "\n",
    "Factorisation de matrice et réseaux de neurones(embedding size: 30) - online\n",
    "- mse:  6.417668297515005\n",
    "- mae:  1.9562104734182357\n",
    "\n",
    "SVD(n_factor: 100) - offline\n",
    "- mse:  0.41887082411441856\n",
    "- mae:  0.49732112232682224\n",
    "\n",
    "\n",
    "SVD(n_factor: 100) - online\n",
    "- mse:  0.7260943593962487\n",
    "- mae:  0.6981995127767968\n",
    "\n",
    "User-based collaborative filtering - offline\n",
    "- mse:  1.0076393690954204\n",
    "- mae:  0.8173901456236159\n",
    "\n",
    "User-based collaborative filtering - online\n",
    "- mse:  0.9594703204118263\n",
    "- mae:  0.7618447292647492\n"
   ]
  },
  {
   "cell_type": "code",
   "execution_count": null,
   "metadata": {},
   "outputs": [],
   "source": []
  }
 ],
 "metadata": {
  "kernelspec": {
   "display_name": "Python [conda env:tf_gpu]",
   "language": "python",
   "name": "conda-env-tf_gpu-py"
  },
  "language_info": {
   "codemirror_mode": {
    "name": "ipython",
    "version": 3
   },
   "file_extension": ".py",
   "mimetype": "text/x-python",
   "name": "python",
   "nbconvert_exporter": "python",
   "pygments_lexer": "ipython3",
   "version": "3.6.8"
  },
  "toc": {
   "base_numbering": 1,
   "nav_menu": {},
   "number_sections": true,
   "sideBar": true,
   "skip_h1_title": false,
   "title_cell": "Table of Contents",
   "title_sidebar": "Contents",
   "toc_cell": false,
   "toc_position": {
    "height": "calc(100% - 180px)",
    "left": "10px",
    "top": "150px",
    "width": "254.594px"
   },
   "toc_section_display": true,
   "toc_window_display": true
  },
  "varInspector": {
   "cols": {
    "lenName": 16,
    "lenType": 16,
    "lenVar": 40
   },
   "kernels_config": {
    "python": {
     "delete_cmd_postfix": "",
     "delete_cmd_prefix": "del ",
     "library": "var_list.py",
     "varRefreshCmd": "print(var_dic_list())"
    },
    "r": {
     "delete_cmd_postfix": ") ",
     "delete_cmd_prefix": "rm(",
     "library": "var_list.r",
     "varRefreshCmd": "cat(var_dic_list()) "
    }
   },
   "types_to_exclude": [
    "module",
    "function",
    "builtin_function_or_method",
    "instance",
    "_Feature"
   ],
   "window_display": false
  }
 },
 "nbformat": 4,
 "nbformat_minor": 2
}
