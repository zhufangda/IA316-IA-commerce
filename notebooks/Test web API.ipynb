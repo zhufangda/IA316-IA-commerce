{
 "cells": [
  {
   "cell_type": "code",
   "execution_count": 22,
   "metadata": {
    "ExecuteTime": {
     "end_time": "2019-02-24T18:37:21.037728Z",
     "start_time": "2019-02-24T18:37:21.033705Z"
    }
   },
   "outputs": [],
   "source": [
    "import sys\n",
    "sys.path.append('..')\n",
    "import requests\n",
    "from src import envs"
   ]
  },
  {
   "cell_type": "code",
   "execution_count": 42,
   "metadata": {
    "ExecuteTime": {
     "end_time": "2019-02-24T18:49:46.080539Z",
     "start_time": "2019-02-24T18:49:38.419026Z"
    },
    "scrolled": true
   },
   "outputs": [
    {
     "name": "stdout",
     "output_type": "stream",
     "text": [
      "------Summary-----\n",
      "key:item_history, \tsize:10000, \ttype:<class 'int'>\n",
      "key:\tnb_items, \tvalue:\t300\n",
      "key:\tnb_users, \tvalue:\t100\n",
      "key:\tnext_item, \tvalue:\t166\n",
      "key:\tnext_user, \tvalue:\t22\n",
      "key:rating_history, \tsize:10000, \ttype:<class 'int'>\n",
      "key:user_history, \tsize:10000, \ttype:<class 'int'>\n"
     ]
    },
    {
     "data": {
      "text/plain": [
       "{'info': 'successful'}"
      ]
     },
     "execution_count": 42,
     "metadata": {},
     "output_type": "execute_result"
    }
   ],
   "source": [
    "data = envs.req_reset(envs='first', verbose=True)\n",
    "r = requests.post('http://localhost:5002/train', json=data)\n",
    "r.json()"
   ]
  },
  {
   "cell_type": "code",
   "execution_count": 45,
   "metadata": {
    "ExecuteTime": {
     "end_time": "2019-02-24T18:50:01.754023Z",
     "start_time": "2019-02-24T18:50:01.672622Z"
    }
   },
   "outputs": [
    {
     "name": "stdout",
     "output_type": "stream",
     "text": [
      "------Summary-----\n",
      "key:next_item,\tvalue:222\n",
      "key:next_user,\tvalue:52\n",
      "key:rating,\tvalue:3\n"
     ]
    },
    {
     "data": {
      "text/plain": [
       "[{'item': 222, 'rating': 2.7031471729278564, 'user': 52}]"
      ]
     },
     "execution_count": 45,
     "metadata": {},
     "output_type": "execute_result"
    }
   ],
   "source": [
    "data = envs.req_predict(2,envs='first', verbose=True)\n",
    "r = requests.post('http://localhost:5002/predict', params={\n",
    "    'user':data['next_user'],\n",
    "    'item':data['next_item']\n",
    "})\n",
    "r.json()"
   ]
  }
 ],
 "metadata": {
  "kernelspec": {
   "display_name": "Python 3",
   "language": "python",
   "name": "python3"
  },
  "language_info": {
   "codemirror_mode": {
    "name": "ipython",
    "version": 3
   },
   "file_extension": ".py",
   "mimetype": "text/x-python",
   "name": "python",
   "nbconvert_exporter": "python",
   "pygments_lexer": "ipython3",
   "version": "3.7.1"
  },
  "toc": {
   "base_numbering": 1,
   "nav_menu": {},
   "number_sections": true,
   "sideBar": true,
   "skip_h1_title": false,
   "title_cell": "Table of Contents",
   "title_sidebar": "Contents",
   "toc_cell": false,
   "toc_position": {},
   "toc_section_display": true,
   "toc_window_display": false
  },
  "varInspector": {
   "cols": {
    "lenName": 16,
    "lenType": 16,
    "lenVar": 40
   },
   "kernels_config": {
    "python": {
     "delete_cmd_postfix": "",
     "delete_cmd_prefix": "del ",
     "library": "var_list.py",
     "varRefreshCmd": "print(var_dic_list())"
    },
    "r": {
     "delete_cmd_postfix": ") ",
     "delete_cmd_prefix": "rm(",
     "library": "var_list.r",
     "varRefreshCmd": "cat(var_dic_list()) "
    }
   },
   "types_to_exclude": [
    "module",
    "function",
    "builtin_function_or_method",
    "instance",
    "_Feature"
   ],
   "window_display": false
  }
 },
 "nbformat": 4,
 "nbformat_minor": 2
}
